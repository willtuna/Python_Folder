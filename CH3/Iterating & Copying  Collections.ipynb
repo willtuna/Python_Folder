{
 "cells": [
  {
   "cell_type": "markdown",
   "metadata": {},
   "source": [
    "# Iterator"
   ]
  },
  {
   "cell_type": "code",
   "execution_count": 13,
   "metadata": {
    "collapsed": false,
    "deletable": true,
    "editable": true
   },
   "outputs": [
    {
     "name": "stdout",
     "output_type": "stream",
     "text": [
      "<list_iterator object at 0x7fb400495b70>\n",
      "1\n",
      "product:   1\n",
      "<list_iterator object at 0x7fb400495b70>\n",
      "2\n",
      "product:   2\n",
      "<list_iterator object at 0x7fb400495b70>\n",
      "4\n",
      "product:   4\n",
      "<list_iterator object at 0x7fb400495b70>\n",
      "8\n",
      "product:   8\n",
      "<list_iterator object at 0x7fb400495b70>\n",
      "1\n"
     ]
    }
   ],
   "source": [
    "product = 1\n",
    "i = iter([1,2,4,8])\n",
    "while True:\n",
    "    try:\n",
    "        print(i)# iterator always at the fixed position\n",
    "        value = next(i)# call build-in next() function and return the next value\n",
    "        print(value)\n",
    "        print('product:  ',value )\n",
    "    except StopIteration:\n",
    "        break\n",
    "\n",
    "        \n",
    "print(product)"
   ]
  },
  {
   "cell_type": "code",
   "execution_count": 12,
   "metadata": {
    "collapsed": false
   },
   "outputs": [
    {
     "name": "stdout",
     "output_type": "stream",
     "text": [
      "./forenames.txt:615:Dominykas\n",
      "./forenames.txt:1435:Dominik\n",
      "./forenames.txt:1611:Domhnall\n",
      "./forenames.txt:3314:Dominic\n",
      "./surnames.txt:4457:Dombkins\n"
     ]
    }
   ],
   "source": [
    "word = 'Dom'\n",
    "for filename in ['./forenames.txt','./surnames.txt']:\n",
    "    for lino,line in enumerate(open(filename),start=1): # set start position as 1, enumerator return iterantion \n",
    "        #number and the line\n",
    "            if word in line:\n",
    "                print(\"{0}:{1}:{2:.40}\".format(filename,lino,line.rstrip() ) )"
   ]
  },
  {
   "cell_type": "markdown",
   "metadata": {},
   "source": [
    "## range()"
   ]
  },
  {
   "cell_type": "code",
   "execution_count": 24,
   "metadata": {
    "collapsed": false
   },
   "outputs": [
    {
     "name": "stdout",
     "output_type": "stream",
     "text": [
      "[0, 1, 2, 3, 4]\n",
      "[9, 10, 11, 12, 13]\n",
      "(10, 5, 0, -5, -10)\n"
     ]
    }
   ],
   "source": [
    "print(list(range(5)) )\n",
    "print(list(range(9,14)))\n",
    "print(tuple(range(10,-11,-5)))"
   ]
  },
  {
   "cell_type": "code",
   "execution_count": 25,
   "metadata": {
    "collapsed": false
   },
   "outputs": [
    {
     "name": "stdout",
     "output_type": "stream",
     "text": [
      "[1, 9, 8, 5]\n"
     ]
    }
   ],
   "source": [
    "x = [-1,-9,-8,5]\n",
    "for i in range(len(x)):\n",
    "    x[i] = abs(x[i])\n",
    "print(x)"
   ]
  },
  {
   "cell_type": "markdown",
   "metadata": {},
   "source": [
    "## Read File and Using random"
   ]
  },
  {
   "cell_type": "code",
   "execution_count": 26,
   "metadata": {
    "collapsed": true
   },
   "outputs": [],
   "source": [
    "import random\n",
    "\n",
    "\n",
    "def get_forenames_and_surnames():\n",
    "    forenames = []\n",
    "    surnames = []\n",
    "    for names, filename in ((forenames, \"data/forenames.txt\"),\n",
    "                            (surnames, \"data/surnames.txt\")):\n",
    "        with open(filename, encoding=\"utf8\") as file:# this method ensure exception handling\n",
    "            for name in file:\n",
    "                names.append(name.rstrip())# strip remaining spaces\n",
    "    return forenames, surnames\n",
    "\n",
    "\n",
    "forenames, surnames = get_forenames_and_surnames()\n",
    "with open(\"test-names2.txt\", \"w\", encoding=\"utf8\") as file:\n",
    "    limit = 100          #this is for the limit of random.sample()\n",
    "    years = list(range(1970, 2013)) * 3\n",
    "    for year, forename, surname in zip(\n",
    "            random.sample(years, limit),\n",
    "            random.sample(forenames, limit),\n",
    "            random.sample(surnames, limit)):# zip together total 100 elements\n",
    "        name = \"{0} {1}\".format(forename, surname)\n",
    "        file.write(\"{0:.<25}.{1}\\n\".format(name, year))\n",
    "        #filled with period left aligned minimum 25 characters long"
   ]
  },
  {
   "cell_type": "code",
   "execution_count": 31,
   "metadata": {
    "collapsed": false
   },
   "outputs": [
    {
     "name": "stdout",
     "output_type": "stream",
     "text": [
      "Diljeet Cavender..........1989\n",
      "\n",
      "Fleur Daley...............1975\n",
      "\n",
      "Nia Nunley................1972\n",
      "\n",
      "Raman Bartlett............2012\n",
      "\n",
      "Kenley Cockbone...........1971\n",
      "\n",
      "Teigan Mcnee..............1984\n",
      "\n",
      "Jackson Mccracken.........2012\n",
      "\n",
      "Krishan Capes.............2004\n",
      "\n",
      "Mykala Crosby.............1983\n",
      "\n",
      "Lohitaksh Maher...........1983\n",
      "\n",
      "Joannamei Hesmonhalgh.....2008\n",
      "\n",
      "Gianna Denton.............2002\n",
      "\n",
      "Shanna Cowling............1974\n",
      "\n",
      "Caera Lemon...............1991\n",
      "\n",
      "Valo Goldstone............1982\n",
      "\n",
      "Amani Shipp...............1986\n",
      "\n",
      "Kamryn Royle..............1991\n",
      "\n",
      "Harry Pring...............1998\n",
      "\n",
      "Daran Viner...............2009\n",
      "\n",
      "Sogand Midhope............1978\n",
      "\n",
      "Sunny Aulas...............1993\n",
      "\n",
      "Makenzi Hartman...........1996\n",
      "\n",
      "Chun-Yi Moon..............1987\n",
      "\n",
      "Afia Mulkey...............2004\n",
      "\n",
      "Alf Buchanan..............1997\n",
      "\n",
      "Magdalene Tankersley......1976\n",
      "\n",
      "Nighinn Albertson.........2008\n",
      "\n",
      "Beneditte Lampkin.........1980\n",
      "\n",
      "Jeremy Puckey.............1990\n",
      "\n",
      "Myia-Rona Carl............1981\n",
      "\n",
      "Devlin Slipper............2011\n",
      "\n",
      "Norman Starkey............1999\n",
      "\n",
      "Harpreet Richardson.......2000\n",
      "\n",
      "Olachan Coubrough.........1981\n",
      "\n",
      "Oda Mellody...............1989\n",
      "\n",
      "Mac Clowes................2003\n",
      "\n",
      "Fionna Cheeseman..........1998\n",
      "\n",
      "Anouk Cape................1992\n",
      "\n",
      "Elyse Washington..........2010\n",
      "\n",
      "Chyvonne Courtney.........1973\n",
      "\n",
      "Cole Thomasson............2008\n",
      "\n",
      "Eryne Wyndham.............1999\n",
      "\n",
      "Jakub Meade...............2007\n",
      "\n",
      "Heman Barnett.............1985\n",
      "\n",
      "Debbie Fray...............1988\n",
      "\n",
      "Skaiste Whiterow..........2004\n",
      "\n",
      "Lizzie Cesna..............1973\n",
      "\n",
      "Hesle Brookes.............1985\n",
      "\n",
      "Sally Shank...............1980\n",
      "\n",
      "Navada Goodyear...........1979\n",
      "\n",
      "Declyn Hickman............2005\n",
      "\n",
      "Vinay Boteler.............1977\n",
      "\n",
      "Robika Waddington.........1989\n",
      "\n",
      "Jordy Luptonn.............2005\n",
      "\n",
      "Elorm Savills.............1993\n",
      "\n",
      "Ronaldo Short.............1976\n",
      "\n",
      "Charleigh Osgerby.........1984\n",
      "\n",
      "Tayven Leatherman.........2012\n",
      "\n",
      "Carsen Herps..............2007\n",
      "\n",
      "Wen Dufton................1986\n",
      "\n",
      "Leni Rathie...............1978\n",
      "\n",
      "Reanna Severs.............1987\n",
      "\n",
      "Orlagh Hay................2011\n",
      "\n",
      "Murin Robey...............2005\n",
      "\n",
      "Marley Parkinson..........2003\n",
      "\n",
      "Jay-Alexander Lascelles...2011\n",
      "\n",
      "Caylan Batty..............2006\n",
      "\n",
      "Fauzaan Warburton.........1990\n",
      "\n",
      "Alexandr Harriet..........1983\n",
      "\n",
      "Andres Benham.............1972\n",
      "\n",
      "Zaneb Stainton............2006\n",
      "\n",
      "Josey Thomson.............2000\n",
      "\n",
      "Bhavyarajsinh Dillon......1994\n",
      "\n",
      "Ammie Sherwin.............1974\n",
      "\n",
      "Antonia Batt..............1992\n",
      "\n",
      "Fabio Beattie.............1980\n",
      "\n",
      "Danyil Doe................2002\n",
      "\n",
      "Krista Beswick............2000\n",
      "\n",
      "Elliott Hardwick..........2001\n",
      "\n",
      "Meg Dent..................1991\n",
      "\n",
      "Yaoting Skinner...........1986\n",
      "\n",
      "Abbiegail Walshe..........1995\n",
      "\n",
      "Ayesha Gentle.............1971\n",
      "\n",
      "Susannah Lemons...........1982\n",
      "\n",
      "Kayden Rushing............1995\n",
      "\n",
      "Shannagh Hobbs............1973\n",
      "\n",
      "Marya Hayward.............2009\n",
      "\n",
      "Ying Holloway.............1978\n",
      "\n",
      "Niah Dalrymple............2006\n",
      "\n",
      "Ulf Pinder................1992\n",
      "\n",
      "Minnah Bonnington.........1982\n",
      "\n",
      "Sean Hanlon...............2010\n",
      "\n",
      "Anushka Tennessee.........1987\n",
      "\n",
      "Loren Pegrum..............1981\n",
      "\n",
      "Aislin Pugh...............2002\n",
      "\n",
      "Woody Briggs..............1998\n",
      "\n",
      "Aimee-Jo Hendric..........2010\n",
      "\n",
      "Tomi Lauder...............2009\n",
      "\n",
      "Idris Beveredge...........1996\n",
      "\n",
      "Nsima Dill................1984\n",
      "\n"
     ]
    }
   ],
   "source": [
    "with open('./test-names2.txt','r') as readfile:\n",
    "    for line in readfile:\n",
    "        print(line)\n",
    "readfile.close()"
   ]
  },
  {
   "cell_type": "markdown",
   "metadata": {},
   "source": [
    "## list()  reversed()"
   ]
  },
  {
   "cell_type": "code",
   "execution_count": 34,
   "metadata": {
    "collapsed": false
   },
   "outputs": [
    {
     "name": "stdout",
     "output_type": "stream",
     "text": [
      "[0, 1, 2, 3, 4, 5]\n",
      "[5, 4, 3, 2, 1, 0]\n"
     ]
    }
   ],
   "source": [
    "print(list(range(6)))\n",
    "print(list(reversed(range(6))))\n"
   ]
  },
  {
   "cell_type": "code",
   "execution_count": 43,
   "metadata": {
    "collapsed": false
   },
   "outputs": [
    {
     "name": "stdout",
     "output_type": "stream",
     "text": [
      "<class 'tuple'>\n",
      "<class 'tuple'>\n",
      "<class 'tuple'>\n"
     ]
    }
   ],
   "source": [
    "a = zip((1,2,4),(4,5,6))# zip's iterator return tuples for each iteration\n",
    "for i  in a:\n",
    "    print(type(i))\n"
   ]
  },
  {
   "cell_type": "code",
   "execution_count": 44,
   "metadata": {
    "collapsed": false
   },
   "outputs": [
    {
     "name": "stdout",
     "output_type": "stream",
     "text": [
      "[-10, 0, 1, -9, 2, 3, -8, 4, 5, -7, 6, 7, -6, 8, 9]\n"
     ]
    }
   ],
   "source": [
    "x =[]\n",
    "for t in zip(range(-10,0,1), range(0,10,2), range(1,10,2)):\n",
    "    x += t# append tuple in the list\n",
    "print(x)"
   ]
  },
  {
   "cell_type": "code",
   "execution_count": 45,
   "metadata": {
    "collapsed": false
   },
   "outputs": [
    {
     "data": {
      "text/plain": [
       "[-10, -9, -8, -7, -6, 0, 1, 2, 3, 4, 5, 6, 7, 8, 9]"
      ]
     },
     "execution_count": 45,
     "metadata": {},
     "output_type": "execute_result"
    }
   ],
   "source": [
    "sorted(x)"
   ]
  },
  {
   "cell_type": "code",
   "execution_count": 46,
   "metadata": {
    "collapsed": false
   },
   "outputs": [
    {
     "data": {
      "text/plain": [
       "[9, 8, 7, 6, 5, 4, 3, 2, 1, 0, -6, -7, -8, -9, -10]"
      ]
     },
     "execution_count": 46,
     "metadata": {},
     "output_type": "execute_result"
    }
   ],
   "source": [
    "sorted(x,reverse=True)"
   ]
  },
  {
   "cell_type": "code",
   "execution_count": 47,
   "metadata": {
    "collapsed": false
   },
   "outputs": [
    {
     "data": {
      "text/plain": [
       "[0, 1, 2, 3, 4, 5, 6, -6, -7, 7, -8, 8, -9, 9, -10]"
      ]
     },
     "execution_count": 47,
     "metadata": {},
     "output_type": "execute_result"
    }
   ],
   "source": [
    "sorted(x,key=abs)# pass the abs function inside"
   ]
  },
  {
   "cell_type": "code",
   "execution_count": 54,
   "metadata": {
    "collapsed": false
   },
   "outputs": [
    {
     "data": {
      "text/plain": [
       "[-10, -9, -8, -7, -6, 0, 1, 2, 3, 4, 5, 6, 7, 8, 9]"
      ]
     },
     "execution_count": 54,
     "metadata": {},
     "output_type": "execute_result"
    }
   ],
   "source": [
    "def increase1(a):\n",
    "    return (a+1)\n",
    "sorted(x,key=increase1)\n",
    "# 由以上觀察我們可以知道 他是依照你的function 產生key 去sorting, 但是 原本的value 繼續留在裡面"
   ]
  },
  {
   "cell_type": "code",
   "execution_count": 55,
   "metadata": {
    "collapsed": false
   },
   "outputs": [
    {
     "data": {
      "text/plain": [
       "['1.3', 2, 4, 8, '9.6']"
      ]
     },
     "execution_count": 55,
     "metadata": {},
     "output_type": "execute_result"
    }
   ],
   "source": [
    "sorted(['1.3',2,4,'9.6',8], key=float)# 使用 float() converter 產生 key 去 sorting 在將原本的value回傳"
   ]
  },
  {
   "cell_type": "code",
   "execution_count": 57,
   "metadata": {
    "collapsed": false
   },
   "outputs": [],
   "source": [
    "def sorted_vega(x,key):\n",
    "    temp = []\n",
    "    for item in x:\n",
    "        temp.append( (key(item),item) )\n",
    "    x = []\n",
    "    for key,value in sorted(temp):\n",
    "        x.append(value)\n",
    "    return x"
   ]
  },
  {
   "cell_type": "code",
   "execution_count": 58,
   "metadata": {
    "collapsed": false
   },
   "outputs": [
    {
     "data": {
      "text/plain": [
       "[0, 1, 2, 3, 4, 5, 6, -6, -7, 7, -8, 8, -9, 9, -10]"
      ]
     },
     "execution_count": 58,
     "metadata": {},
     "output_type": "execute_result"
    }
   ],
   "source": [
    "sorted(x,key=abs)"
   ]
  },
  {
   "cell_type": "code",
   "execution_count": 59,
   "metadata": {
    "collapsed": false
   },
   "outputs": [
    {
     "data": {
      "text/plain": [
       "[0, 1, 2, 3, 4, 5, -6, 6, -7, 7, -8, 8, -9, 9, -10]"
      ]
     },
     "execution_count": 59,
     "metadata": {},
     "output_type": "execute_result"
    }
   ],
   "source": [
    "sorted_vega(x,key=abs)"
   ]
  },
  {
   "cell_type": "markdown",
   "metadata": {},
   "source": [
    "# Copying Collections"
   ]
  },
  {
   "cell_type": "code",
   "execution_count": 61,
   "metadata": {
    "collapsed": false
   },
   "outputs": [
    {
     "data": {
      "text/plain": [
       "(['Becasue', 'Boys', 'Carol'], ['Becasue', 'Boys', 'Carol'])"
      ]
     },
     "execution_count": 61,
     "metadata": {},
     "output_type": "execute_result"
    }
   ],
   "source": [
    "songs = [\"Becasue\",'Boys','Carol']\n",
    "beatles =songs\n",
    "beatles,songs"
   ]
  },
  {
   "cell_type": "code",
   "execution_count": 62,
   "metadata": {
    "collapsed": true
   },
   "outputs": [],
   "source": [
    "beatles[2] = 'Cayenne'"
   ]
  },
  {
   "cell_type": "code",
   "execution_count": 63,
   "metadata": {
    "collapsed": false
   },
   "outputs": [
    {
     "data": {
      "text/plain": [
       "(['Becasue', 'Boys', 'Cayenne'], ['Becasue', 'Boys', 'Cayenne'])"
      ]
     },
     "execution_count": 63,
     "metadata": {},
     "output_type": "execute_result"
    }
   ],
   "source": [
    "beatles,songs"
   ]
  },
  {
   "cell_type": "markdown",
   "metadata": {},
   "source": [
    "## when using slice operator :"
   ]
  },
  {
   "cell_type": "code",
   "execution_count": 68,
   "metadata": {
    "collapsed": false
   },
   "outputs": [
    {
     "data": {
      "text/plain": [
       "(['Becasue', 'Boys', 'Rose'], ['Becasue', 'Boys', 'Cayenne'])"
      ]
     },
     "execution_count": 68,
     "metadata": {},
     "output_type": "execute_result"
    }
   ],
   "source": [
    "beatles = songs[:]# create a copy of songs\n",
    "beatles[2] = 'Rose'\n",
    "\n",
    "short = songs[:2]\n",
    "short[1] = \"Linkin Park\"\n",
    "beatles,songs"
   ]
  },
  {
   "cell_type": "code",
   "execution_count": 69,
   "metadata": {
    "collapsed": false
   },
   "outputs": [
    {
     "data": {
      "text/plain": [
       "(['Becasue', 'Linkin Park'],\n",
       " ['Becasue', 'Boys', 'Rose'],\n",
       " ['Becasue', 'Boys', 'Cayenne'])"
      ]
     },
     "execution_count": 69,
     "metadata": {},
     "output_type": "execute_result"
    }
   ],
   "source": [
    "short,beatles,songs"
   ]
  },
  {
   "cell_type": "code",
   "execution_count": 72,
   "metadata": {
    "collapsed": false
   },
   "outputs": [
    {
     "data": {
      "text/plain": [
       "({1: 'Will', 2: 'Vega', 3: 'Luff'},\n",
       " {1: 'Will', 2: 'Liu', 3: 'Luff'},\n",
       " {1: 'Will', 2: 'Vega', 3: 'Punk'})"
      ]
     },
     "execution_count": 72,
     "metadata": {},
     "output_type": "execute_result"
    }
   ],
   "source": [
    "# Another way of copy\n",
    "d ={1:'Will',2:'Vega',3:'Luff'}\n",
    "dict_copy1 = dict(d)\n",
    "dict_copy2 = d.copy()\n",
    "dict_copy1[2] = 'Liu'\n",
    "dict_copy2[3] = 'Punk'\n",
    "d, dict_copy1,dict_copy2"
   ]
  },
  {
   "cell_type": "markdown",
   "metadata": {},
   "source": [
    "# Shallow Copy vs Deep Copy"
   ]
  },
  {
   "cell_type": "code",
   "execution_count": 77,
   "metadata": {
    "collapsed": false
   },
   "outputs": [
    {
     "data": {
      "text/plain": [
       "(['Protected by shallow', ['hacked', 1]], ['hacked', ['hacked', 1]])"
      ]
     },
     "execution_count": 77,
     "metadata": {},
     "output_type": "execute_result"
    }
   ],
   "source": [
    "x = ['Protected by shallow',['Protected by Shallow 2',1]]\n",
    "y = x[:] # doing the shallow copy\n",
    "y[0] = 'hacked'\n",
    "y[1][0] = 'hacked'# due to shallow copy,  this changed the original x[2][0]\n",
    "x, y"
   ]
  },
  {
   "cell_type": "code",
   "execution_count": 80,
   "metadata": {
    "collapsed": false
   },
   "outputs": [
    {
     "data": {
      "text/plain": [
       "(['Protected by Deep', ['Protected by Deep', 1]], ['hacked', ['hacked', 1]])"
      ]
     },
     "execution_count": 80,
     "metadata": {},
     "output_type": "execute_result"
    }
   ],
   "source": [
    "# Deep Copy\n",
    "import copy\n",
    "x = ['Protected by Deep',['Protected by Deep',1]]\n",
    "y = copy.deepcopy(x) # doing the shallow copy\n",
    "y[0] = 'hacked'\n",
    "y[1][0] = 'hacked'# due to shallow copy,  this changed the original x[2][0]\n",
    "x, y\n"
   ]
  },
  {
   "cell_type": "code",
   "execution_count": null,
   "metadata": {
    "collapsed": true
   },
   "outputs": [],
   "source": []
  }
 ],
 "metadata": {
  "kernelspec": {
   "display_name": "IPython (Python 3)",
   "language": "python",
   "name": "python3"
  },
  "language_info": {
   "codemirror_mode": {
    "name": "ipython",
    "version": 3
   },
   "file_extension": ".py",
   "mimetype": "text/x-python",
   "name": "python",
   "nbconvert_exporter": "python",
   "pygments_lexer": "ipython3",
   "version": "3.5.2"
  }
 },
 "nbformat": 4,
 "nbformat_minor": 2
}
