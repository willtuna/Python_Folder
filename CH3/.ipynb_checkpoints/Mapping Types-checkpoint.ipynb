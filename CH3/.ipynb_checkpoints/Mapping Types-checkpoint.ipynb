{
 "cells": [
  {
   "cell_type": "code",
   "execution_count": 74,
   "metadata": {
    "collapsed": false,
    "deletable": true,
    "editable": true
   },
   "outputs": [],
   "source": [
    "import collections as col\n",
    "#col.OrderedDict()\n",
    "#col.defaultdict()\n",
    "# key-value item\n",
    "# Only hashable such as str int frozenset float and tuple could be as key\n",
    "# mutable types such as dict, list cannot be key\n",
    "\n",
    "# value could be any type\n",
    "\n",
    "\n",
    "d1 = dict({'id':48,'name':'Fisher','size':3})\n",
    "d2 = dict(id=1948,name='Washer',size=3)\n",
    "d3 = dict([ ('id',1948), ('name','Washer'),('size',3) ])\n",
    "d4 = dict(zip( ('id','name','size'), (1948,'Washer',3)))\n",
    "d5 ={'id':1948, 'name':'Washer','size':3}"
   ]
  },
  {
   "cell_type": "code",
   "execution_count": 75,
   "metadata": {
    "collapsed": false,
    "deletable": true,
    "editable": true
   },
   "outputs": [
    {
     "data": {
      "text/plain": [
       "(True, True, True)"
      ]
     },
     "execution_count": 75,
     "metadata": {},
     "output_type": "execute_result"
    }
   ],
   "source": [
    "d2 == d3,d2 ==d4 ,d2 ==d5"
   ]
  },
  {
   "cell_type": "code",
   "execution_count": 76,
   "metadata": {
    "collapsed": true,
    "deletable": true,
    "editable": true
   },
   "outputs": [],
   "source": [
    "d = {(1,2): 18}# key could be tuple , which is immutable(hashable)"
   ]
  },
  {
   "cell_type": "code",
   "execution_count": 77,
   "metadata": {
    "collapsed": false,
    "deletable": true,
    "editable": true
   },
   "outputs": [
    {
     "data": {
      "text/plain": [
       "18"
      ]
     },
     "execution_count": 77,
     "metadata": {},
     "output_type": "execute_result"
    }
   ],
   "source": [
    "d[(1,2)]"
   ]
  },
  {
   "cell_type": "code",
   "execution_count": 78,
   "metadata": {
    "collapsed": false,
    "deletable": true,
    "editable": true
   },
   "outputs": [
    {
     "data": {
      "text/plain": [
       "{'id': 1948, 'name': 'Washer', 'size': 3}"
      ]
     },
     "execution_count": 78,
     "metadata": {},
     "output_type": "execute_result"
    }
   ],
   "source": [
    "d2"
   ]
  },
  {
   "cell_type": "code",
   "execution_count": 79,
   "metadata": {
    "collapsed": false,
    "deletable": true,
    "editable": true
   },
   "outputs": [
    {
     "data": {
      "text/plain": [
       "'Washer'"
      ]
     },
     "execution_count": 79,
     "metadata": {},
     "output_type": "execute_result"
    }
   ],
   "source": [
    "del d2['id'] # delete d2['id'] item\n",
    "d2.pop('name')# return the 'name':value"
   ]
  },
  {
   "cell_type": "code",
   "execution_count": 80,
   "metadata": {
    "collapsed": false,
    "deletable": true,
    "editable": true
   },
   "outputs": [
    {
     "data": {
      "text/plain": [
       "{'size': 3}"
      ]
     },
     "execution_count": 80,
     "metadata": {},
     "output_type": "execute_result"
    }
   ],
   "source": [
    "d2"
   ]
  },
  {
   "cell_type": "code",
   "execution_count": 81,
   "metadata": {
    "collapsed": false,
    "deletable": true,
    "editable": true
   },
   "outputs": [
    {
     "name": "stdout",
     "output_type": "stream",
     "text": [
      "size 3\n",
      "('size', 3) <class 'tuple'>\n",
      "name Fisher\n",
      "('name', 'Fisher') <class 'tuple'>\n",
      "id 48\n",
      "('id', 48) <class 'tuple'>\n"
     ]
    }
   ],
   "source": [
    "# return tuple type\n",
    "for item in d1.items():\n",
    "    print(item[0],item[1])\n",
    "    print(item, type(item))"
   ]
  },
  {
   "cell_type": "code",
   "execution_count": 82,
   "metadata": {
    "collapsed": false,
    "deletable": true,
    "editable": true
   },
   "outputs": [
    {
     "name": "stdout",
     "output_type": "stream",
     "text": [
      "size 3\n",
      "name Fisher\n",
      "id 48\n"
     ]
    }
   ],
   "source": [
    "# since items() method return tuple, so we use key,value to take it\n",
    "for key,value in d1.items():\n",
    "    print(key,value)"
   ]
  },
  {
   "cell_type": "code",
   "execution_count": 83,
   "metadata": {
    "collapsed": false,
    "deletable": true,
    "editable": true
   },
   "outputs": [
    {
     "name": "stdout",
     "output_type": "stream",
     "text": [
      "size\n",
      "name\n",
      "id\n",
      "size\n",
      "name\n",
      "id\n"
     ]
    }
   ],
   "source": [
    "#default it return key\n",
    "for key in d1:\n",
    "    print(key)\n",
    "# Equivalent method\n",
    "for key in d1.keys():\n",
    "    print(key)"
   ]
  },
  {
   "cell_type": "code",
   "execution_count": 84,
   "metadata": {
    "collapsed": false,
    "deletable": true,
    "editable": true
   },
   "outputs": [],
   "source": [
    "tmpd = dict.fromkeys('apple', 10)"
   ]
  },
  {
   "cell_type": "code",
   "execution_count": 85,
   "metadata": {
    "collapsed": false,
    "deletable": true,
    "editable": true
   },
   "outputs": [
    {
     "data": {
      "text/plain": [
       "10"
      ]
     },
     "execution_count": 85,
     "metadata": {},
     "output_type": "execute_result"
    }
   ],
   "source": [
    "tmpd.get('a','NoStuff')"
   ]
  },
  {
   "cell_type": "code",
   "execution_count": 86,
   "metadata": {
    "collapsed": false,
    "deletable": true,
    "editable": true
   },
   "outputs": [
    {
     "data": {
      "text/plain": [
       "'NoStuff'"
      ]
     },
     "execution_count": 86,
     "metadata": {},
     "output_type": "execute_result"
    }
   ],
   "source": [
    "tmpd.get('j','NoStuff')"
   ]
  },
  {
   "cell_type": "code",
   "execution_count": 87,
   "metadata": {
    "collapsed": false,
    "deletable": true,
    "editable": true
   },
   "outputs": [
    {
     "data": {
      "text/plain": [
       "dict_items([('l', 10), ('a', 10), ('e', 10), ('p', 10)])"
      ]
     },
     "execution_count": 87,
     "metadata": {},
     "output_type": "execute_result"
    }
   ],
   "source": [
    "tmpd.items()"
   ]
  },
  {
   "cell_type": "code",
   "execution_count": 88,
   "metadata": {
    "collapsed": false,
    "deletable": true,
    "editable": true
   },
   "outputs": [
    {
     "data": {
      "text/plain": [
       "dict_keys(['l', 'a', 'e', 'p'])"
      ]
     },
     "execution_count": 88,
     "metadata": {},
     "output_type": "execute_result"
    }
   ],
   "source": [
    "tmpd.keys()"
   ]
  },
  {
   "cell_type": "code",
   "execution_count": 89,
   "metadata": {
    "collapsed": false,
    "deletable": true,
    "editable": true
   },
   "outputs": [
    {
     "data": {
      "text/plain": [
       "'NOSTUFF'"
      ]
     },
     "execution_count": 89,
     "metadata": {},
     "output_type": "execute_result"
    }
   ],
   "source": [
    "tmpd.setdefault('key','NOSTUFF') # find if 'key' is exist, ifnot add 'key':'NOSTUFF' into dictionary "
   ]
  },
  {
   "cell_type": "code",
   "execution_count": 90,
   "metadata": {
    "collapsed": false,
    "deletable": true,
    "editable": true
   },
   "outputs": [
    {
     "data": {
      "text/plain": [
       "{'a': 10, 'e': 10, 'key': 'NOSTUFF', 'l': 10, 'p': 10}"
      ]
     },
     "execution_count": 90,
     "metadata": {},
     "output_type": "execute_result"
    }
   ],
   "source": [
    "tmpd"
   ]
  },
  {
   "cell_type": "code",
   "execution_count": 91,
   "metadata": {
    "collapsed": false,
    "deletable": true,
    "editable": true
   },
   "outputs": [
    {
     "name": "stdout",
     "output_type": "stream",
     "text": [
      "{'A', 'C'}\n",
      "False\n",
      "True\n"
     ]
    }
   ],
   "source": [
    "d = {}.fromkeys('ABCD',3)\n",
    "s = set('ACX')\n",
    "matches = d.keys() & s # d.keys() return key item , and we used it to & with set s\n",
    "print(matches)\n",
    "print('ACX' in d)\n",
    "print('A' in d) # check whether 'A' is the key in dict d"
   ]
  },
  {
   "cell_type": "code",
   "execution_count": 92,
   "metadata": {
    "collapsed": false,
    "deletable": true,
    "editable": true
   },
   "outputs": [
    {
     "name": "stdout",
     "output_type": "stream",
     "text": [
      "'a&&1==d.nodetype)return' occurs '1' times\n",
      "'a)google.esrp[b]=encodeuricomponent(a[b]);var' occurs '1' times\n",
      "'a)return' occurs '1' times\n",
      "'a.contains(d);if(\"comparedocumentposition\"in' occurs '1' times\n",
      "'a.replace(/^\\s+/,\"\").replace(/\\s+$/,\"\")},ea=/\\s*;\\s*/,ia=function(a,d){return' occurs '1' times\n",
      "'a.s.push(b),b;u(a,b);a.o.push(b);v(a);return' occurs '1' times\n",
      "'a.trim()}:function(a){return' occurs '1' times\n",
      "'a9a9a9;border-top-color:#909090}.fkbxfcs' occurs '1' times\n",
      "'a;a=f.shift();)e(a.o,a.v,a.w)};google.itick=function(a){var' occurs '1' times\n",
      "'a==d||!!(a.comparedocumentposition(d)&16);for(;d&&a!=d;)d=d.parentnode;return' occurs '1' times\n",
      "'a==d},x=function(a,d){for(var' occurs '1' times\n",
      "'a=document.createelement(\"script\");a.src=b;document.getelementbyid(\"xjsd\").appendchild(a)},0)}google.dljp=function(b,a){google.xjsu=b;c(a)};google.dlj=c;}).call(this);(function(){window.google.xjsrm=[];})();if(google.y)google.y.first=[];if(!google.xjs){window._=window._||{};window._._dumpexception=function(e){throw' occurs '1' times\n",
      "'a=r.indexof(\":\"),n=-1!=a,ga=n?r(r.substr(0,a)):\"click\",r=n?r(r.substr(a+1)):r;p[ga]=r}}w[t]=p}g.__jsaction=p}else' occurs '1' times\n",
      "'a=this.o;this.o&&this.o!=this.v?this.o=this.o.__owner||this.o.parentnode:this.o=null;return' occurs '1' times\n",
      "'a=this.w[this.o];this.o++;a!=this.v&&a&&a.__owner&&(this.h=!0,l(a.__owner,this.v));return' occurs '1' times\n",
      "'aa},i=function(a){return(a.getattribute(\"type\")||a.tagname).touppercase()in' occurs '1' times\n",
      "'action=\"/search' occurs '1' times\n",
      "'allow-alert' occurs '1' times\n",
      "'alt=\"google' occurs '1' times\n",
      "'am,.s2fp' occurs '1' times\n",
      "'am,.s2tb' occurs '2' times\n",
      "'am,.s2tb-h' occurs '1' times\n",
      "'am{height:165px;right:-70px;top:-70px;width:165px}.s2fp-h' occurs '1' times\n",
      "'am{height:95px;right:-31px;top:-27px;width:95px}.s2ra' occurs '1' times\n",
      "'am{transform:scale(.1)}.s2fp' occurs '1' times\n",
      "'am{transform:scale(1)}.s2tb-h' occurs '1' times\n",
      "'and' occurs '6' times\n",
      "'aria-hidden=\"true' occurs '1' times\n",
      "'arial,sans-serif;height:36px;line-height:36px;max-width:672px;position:relative;width:618px}#fkbx:hover{border:1px' occurs '1' times\n",
      "'arial,sans-serif;margin:0;min-height:616px;text-align:-webkit-center}body.hide,body.hide-sf' occurs '1' times\n",
      "'arial;padding:10px' occurs '1' times\n",
      "'array||(b=[b]);for(var' occurs '1' times\n",
      "'aub,.s2ml' occurs '1' times\n",
      "'aub,.s2ra' occurs '1' times\n",
      "'autocomplete=\"off' occurs '1' times\n",
      "'a{color:#1a0dab;cursor:pointer;margin:5px}._gsc{background:url(data:image/gif;base64,r0lgodlheaaqakihapzu7pft0oh5cfgtqonbuublqebkp////yh5baeaaacalaaaaaaqabaaaankelrcfkai8nowztqfccbujmcysawfaqbgevsjyhqmc2hbndudgqqkeooga5i0ckckxmquqjenamu0gukuztpgarawtek0sa5tggkaow' occurs '1' times\n",
      "'a{color:#4285f4;line-height:31px}.chw-oc{font-size:13px;padding:20px' occurs '1' times\n",
      "'a},c=\"undefined\"!=typeof' occurs '1' times\n",
      "'a};google.y={};google.x=function(a,b){google.y[a.id]=[a,b];return!1};google.lq=[];google.load=function(a,b,c){google.lq.push([[a],b,c])};google.loadall=function(a,b){google.lq.push([a,b])};}).call(this);(function(){window.chrome||(window.chrome={});window.chrome.embeddedsearch||(window.chrome.embeddedsearch={});window.chrome.embeddedsearch.searchbox||(window.chrome.embeddedsearch.searchbox={});window.chrome.embeddedsearch.searchbox.onsubmit=function(){google.x({id:\"psyapi\"},function(c,a){google.esrp.q=c;if(a)for(var' occurs '1' times\n",
      "'a};var' occurs '1' times\n",
      "'a}d=!1}if(d)return' occurs '1' times\n",
      "'a}return' occurs '1' times\n",
      "'b)\"function\"!==typeof' occurs '1' times\n",
      "'b);l()}}}},s=function(a,d,b,c,e,f){return{eventtype:a,event:d,targetelement:b,action:c,actionelement:e,timestamp:f||l()}},ha={},ja=function(a,d){return' occurs '1' times\n",
      "'b)if(b[a])return;google.csireport()}else' occurs '1' times\n",
      "'b.attachevent&&(\"focus\"==c?c=\"focusin\":\"blur\"==c&&(c=\"focusout\"),e=x(b,e),b.attachevent(\"on\"+c,e));return{r:c,t:e,capture:f}}},p=function(a,d){if(!a.h.hasownproperty(d)){var' occurs '1' times\n",
      "'b0;color:#fff}._ww:hover{background-color:#629cff}._ww:hover,._ww:focus{box-shadow:inset' occurs '1' times\n",
      "'b;a&&(!a.getattribute||!(b=a.getattribute(\"eid\")));)a=a.parentnode;return' occurs '1' times\n",
      "'b=!1,c=0;c<a.o.length;++c)if(a.o[c]===d){a.o.splice(c,1);b=!0;break}if(!b)for(c=0;c<a.s.length;++c)if(a.s[c]===d){a.s.splice(c,1);break}v(a)}})(z);}).call(this);</script><script>if' occurs '1' times\n",
      "'b=0;b<d.length;++b)if(d[b].o!=a.o&&t(d[b],a.o))return!0;return!1},y=function(a){for(var' occurs '1' times\n",
      "'b=a.o,c=a.s[d];b.removeeventlistener?b.removeeventlistener(c.r,c.t,c.capture):b.detachevent&&b.detachevent(\"on\"+c.r,c.t)}a.s=[]};var' occurs '1' times\n",
      "'b=d.o;da&&(b.style.cursor=\"pointer\");for(b=0;b<a.s.length;++b)d.s.push(a.s[b].call(null,d.o))},ka=function(a){this.o=a;this.s=[]},t=function(a,d){for(a=a.o;a!=d&&d.parentnode;)d=d.parentnode;return' occurs '1' times\n",
      "'b=google.time();google.tick(\"load\",\"iml\",b);a=a.id||a.src||a.name;google.tick(\"iml\",a,b);google.c.c.a&&google.tick(\"aft\",a,b)};google.afte=!0;google.aft=function(a){google.c.c.a&&google.afte&&google.tick(\"aft\",a.id||a.src||a.name)};google.starttick(\"load\");google.c.b(\"pr\");google.c.b(\"xe\");}).call(this);})();(function(){'use' occurs '1' times\n",
      "'b=google.timers.load.m;b[a]&&google.wl(\"ch_mab\",{m:a});b[a]=!0};google.c.u=function(a){var' occurs '1' times\n",
      "'b=google.timers.load.m;if(b[a]){b[a]=!1;for(a' occurs '1' times\n",
      "'b=ia(a,d),c=ja(d,b);a.h[d]=b;a.s.push(c);for(b=0;b<a.o.length;++b){var' occurs '1' times\n",
      "'b=k;b.o=a;b.v=d;return' occurs '1' times\n",
      "'b=new' occurs '1' times\n",
      "'b=null;a&&(!a.getattribute||!(b=a.getattribute(\"leid\")));)a=a.parentnode;return' occurs '1' times\n",
      "'b[n' occurs '1' times\n",
      "'ba},aa={checkbox:!0,option:!0,radio:!0},ba={color:!0,date:!0,datetime:!0,\"datetime-local\":!0,email:!0,month:!0,number:!0,password:!0,range:!0,search:!0,tel:!0,text:!0,textarea:!0,time:!0,url:!0,week:!0},ca={a:!0,area:!0,button:!0,dialog:!0,img:!0,input:!0,link:!0,menu:!0,optgroup:!0,option:!0,progress:!0,select:!0,textarea:!0};var' occurs '1' times\n",
      "'bdbdbd;color:#000}._k3:hover{background-color:#fcfcfc}._k3:active,._k3:hover,._k3:focus{border-color:#3e7ef8}._k3:active{background-color:#e6e6e6}._ww{background-color:#5a97ff;border:1px' occurs '1' times\n",
      "'blink' occurs '1' times\n",
      "'border-radius:28px;bottom:27px;height:57px;pointer-events:none;position:absolute;width:38px;z-index:0}.s2ml' occurs '1' times\n",
      "'button,.s2tb' occurs '1' times\n",
      "'button:active{background-color:#cd0000}.button:active{background-color:#eee}._wpb{height:87px;left:43px;pointer-events:none;position:absolute;top:47px;width:42px;transform:scale(1)}.s2tb-h' occurs '1' times\n",
      "'button{background-color:#ff4444;border:0;box-shadow:none}._cmb{background-color:#dbdbdb;border-radius:100%;display:inline-block;height:301px;left:-69px;opacity:1;pointer-events:none;position:absolute;top:-69px;width:301px;transform:scale(.01);transition:opacity' occurs '1' times\n",
      "'button{left:-83px;opacity:0;pointer-events:none;position:absolute;top:-83px;transition-delay:0}.s2fp-h' occurs '1' times\n",
      "'button{opacity:0;pointer-events:none;position:absolute;transition-delay:0}.s2fp' occurs '1' times\n",
      "'button{opacity:1;pointer-events:auto;position:absolute;transform:scale(1);transition-delay:0}.s2ra' occurs '1' times\n",
      "'b||google.kei};google.getlei=function(a){for(var' occurs '1' times\n",
      "'b},v=function(a){for(var' occurs '1' times\n",
      "'b};google.https=function(){return\"https:\"==window.location.protocol};google.ml=function(){return' occurs '1' times\n",
      "'b};j.prototype.s=function(){var' occurs '1' times\n",
      "'c(b){window.settimeout(function(){var' occurs '1' times\n",
      "'c=0;c<a.o.length;c++)if(t(a.o[c],d)){d=!0;break' occurs '1' times\n",
      "'c=a,e=d,f=!1;\"mouseenter\"==c?c=\"mouseover\":\"mouseleave\"==c&&(c=\"mouseout\");if(b.addeventlistener){if(\"focus\"==c||\"blur\"==c||\"error\"==c||\"load\"==c)f=!0;b.addeventlistener(c,e,f)}else' occurs '1' times\n",
      "'c=b&&google.timers[b].t?google.timers[b].t.start:google.time();google.timers[a]={t:{start:c},e:{},it:{},m:{}};(c=window.performance)&&c.now&&(google.timers[a].wsrt=math.floor(c.now()))};google.tick=function(a,b,c){google.timers[a]||google.starttick(a);c=c||google.time();b' occurs '1' times\n",
      "'c=d;if(\"_custom\"==c){c=b.detail;if(!c||!c._type)return;c=c._type}var' occurs '1' times\n",
      "'c=google.timers[a].it[b];c||(c=google.timers[a].it[b]=[]);var' occurs '1' times\n",
      "'c={},n;for(n' occurs '1' times\n",
      "'ca&&\"a\"!=q&&!h(g)&&!i(g)||\"button\"==q);g&&(b.preventdefault?b.preventdefault():b.returnvalue=!1);if(\"mouseenter\"==c||\"mouseleave\"==c)if(g=b.relatedtarget,!(\"mouseover\"==b.type&&\"mouseenter\"==c||\"mouseout\"==b.type&&\"mouseleave\"==c)||g&&(g===e||u(e,g)))f.action=\"\",f.actionelement=null;else{var' occurs '1' times\n",
      "'center;background-size:24px' occurs '1' times\n",
      "'center;background-size:94px' occurs '1' times\n",
      "'center;display:inline-block;height:16px;width:16px}#chw-o{display:none}#chw-o' occurs '1' times\n",
      "'class=\"_am\"><span' occurs '1' times\n",
      "'class=\"_aub\"></span><div' occurs '1' times\n",
      "'class=\"_cmb' occurs '1' times\n",
      "'class=\"_dkb' occurs '2' times\n",
      "'class=\"_dwb\"></span></div></div></span></div><div' occurs '1' times\n",
      "'class=\"_fjd\"><span' occurs '1' times\n",
      "'class=\"_gjb\"><span' occurs '1' times\n",
      "'class=\"_gsc\"></div><div>發生錯誤，無法接聽指令。</div><div><a' occurs '1' times\n",
      "'class=\"_ksc\">不需動手也能搜尋。只要說出「ok' occurs '1' times\n",
      "'class=\"_msc\">說出「ok' occurs '1' times\n",
      "'class=\"_o3\"><div' occurs '1' times\n",
      "'class=\"_oxb\"></span><span' occurs '1' times\n",
      "'class=\"_wpb\"><span' occurs '1' times\n",
      "'class=\"_ypc\"><div' occurs '1' times\n",
      "'class=\"_zpc\"></div></div></div><div' occurs '1' times\n",
      "'class=\"button' occurs '1' times\n",
      "'class=\"close-button' occurs '1' times\n",
      "'class=\"google-logo\"></div></div><div' occurs '1' times\n",
      "'class=\"h' occurs '1' times\n",
      "'class=\"init' occurs '2' times\n",
      "'class=\"init\"><div' occurs '1' times\n",
      "'class=\"mv-hide' occurs '1' times\n",
      "'class=\"mv-noti-hide' occurs '2' times\n",
      "'class=\"mv-x' occurs '1' times\n",
      "'class=\"spch' occurs '1' times\n",
      "'class=\"spchc' occurs '1' times\n",
      "'class=\"spcht' occurs '2' times\n",
      "'cmb,.s2tb' occurs '1' times\n",
      "'cmb{height:151px;left:-28px;top:-28px;width:151px}._am{float:right;pointer-events:none;position:relative;transition:transform' occurs '1' times\n",
      "'content=\"none' occurs '1' times\n",
      "'d.call(a,b)}},b=function(a){a=a.target||a.srcelement;!a.getattribute&&a.parentnode&&(a=a.parentnode);return' occurs '1' times\n",
      "'d90fe}#fkbx>input{background:transparent;border:none;bottom:0;box-sizing:border-box;left:0;margin:0;outline:none;padding' occurs '1' times\n",
      "'d=0;d<a.s.length;++d){var' occurs '1' times\n",
      "'d=0;d<b.length;++d)google.timers[a].t[b[d]]=c};google.c.e=function(a,b,c){google.timers[a].e[b]=c};google.bit=function(a,b){google.timers[a]||google.starttick(a);var' occurs '1' times\n",
      "'d==a};var' occurs '1' times\n",
      "'d=a.s.concat(a.o),b=[],c=[],e=0;e<a.o.length;++e){var' occurs '1' times\n",
      "'d=c.push({s:google.time()})-1;return' occurs '1' times\n",
      "'d=function(b){c(b);e(a,\"load\",d);e(a,\"error\",d)};g(a,\"load\",d);b&&g(a,\"error\",d)};google.ull=function(){for(var' occurs '1' times\n",
      "'d=google.esrnh;google.esrnh=!1;return' occurs '1' times\n",
      "'data-noload' occurs '2' times\n",
      "'date().gettime();}google.dljp('/xjs/_/js/k\\x3dxjs.ntp.en_us.1ml0b8fux6o.o/m\\x3djsa,ntp,d,csi/am\\x3dig/rt\\x3dj/d\\x3d1/t\\x3dzcms/rs\\x3dact90ohcoj-0qrzxgk8uczo-yc86y-0pea','/xjs/_/js/k\\x3dxjs.ntp.en_us.1ml0b8fux6o.o/m\\x3djsa,ntp,d,csi/am\\x3dig/rt\\x3dj/d\\x3d1/t\\x3dzcms/rs\\x3dact90ohcoj-0qrzxgk8uczo-yc86y-0pea');google.xjs=1;}google.pmc={\"jsa\":{},\"ntp\":{\"ffb\":false,\"lang\":\"zh-hant-tw\",\"mvrt\":\"不要在這個頁面上顯示\",\"stt\":\"語音搜尋\",\"tc\":{\"dnt\":\"按一下即可查看今天的' occurs '1' times\n",
      "'date).gettime()};google.log=function(a,b,c,d,g){a=google.logurl(a,b,c,d,g);if(\"\"!=a){b=new' occurs '1' times\n",
      "'date};var' occurs '1' times\n",
      "'des-cla' occurs '1' times\n",
      "'des-ico' occurs '2' times\n",
      "'des-mat' occurs '4' times\n",
      "'des-mat.light-text' occurs '1' times\n",
      "'dkb{float:right;margin-left:10px}._k3{background-color:#f9f9f9;border:1px' occurs '1' times\n",
      "'doctype' occurs '1' times\n",
      "'doodle\",\"tlh\":92,\"tlu\":\"/images/branding/googlelogo/2x/googlelogo_light_color_272x92dp.png\",\"tlw\":272},\"uss\":false,\"xid\":1},\"spch\":{\"ae\":\"請檢查您的麥克風。\\u003ca' occurs '1' times\n",
      "'dwb{border-color:#f44}.s2ra' occurs '1' times\n",
      "'dwb{border-color:#fff}.spcht{}.spchta{}.spch-2l{}.spch-3l{}.spch-4l{}.spch-5l{}._gjb{pointer-events:none}.s2fp-h' occurs '1' times\n",
      "'e)||(h=m.getattributenode(\"tabindex\"),h=null!=h&&h.specified),h=!(h&&!m.disabled));h?f=!1:(m=\"input\"!=m.tagname.touppercase()||m.type,h=!(q' occurs '1' times\n",
      "'e;if(\"click\"==c&&(c&&b.metakey||!c&&b.ctrlkey||2==b.which||null==b.which&&4==b.button||b.shiftkey))c=\"clickmod\";else{var' occurs '1' times\n",
      "'e=\"\",f=google.ls||\"\";c||-1!=b.search(\"&ei=\")||(e=\"&ei=\"+google.getei(d),-1==b.search(\"&lei=\")&&(d=google.getlei(d))&&(e+=\"&lei=\"+d));a=c||\"/\"+(g||\"gen_204\")+\"?atyp=i&ct=\"+a+\"&cad=\"+b+e+f+\"&zx=\"+google.time();/^http:/i.test(a)&&google.https()&&(google.ml(error(\"a\"),!1,{src:a,glmm:1}),a=\"\");return' occurs '1' times\n",
      "'e=a.o[b];e.s.push(c.call(null,e.o))}\"click\"==d&&p(a,\"keydown\")}};q.prototype.t=function(a){return' occurs '1' times\n",
      "'e=function(a,b,c){a.addeventlistener?a.removeeventlistener(b,c,!1):a.attachevent&&a.detachevent(\"on\"+b,c)},g=function(a,b,c){f.push({o:a,v:b,w:c});a.addeventlistener?a.addeventlistener(b,c,!1):a.attachevent&&a.attachevent(\"on\"+b,c)},f=[];google.timers={};google.starttick=function(a,b){var' occurs '1' times\n",
      "'e=google.lc,f=google.li;e[f]=b;b.onerror=b.onload=b.onabort=function(){delete' occurs '1' times\n",
      "'e[f]};window.google&&window.google.vel&&window.google.vel.lu&&window.google.vel.lu(a);b.src=a;google.li=f+1}};google.logurl=function(a,b,c,d,g){var' occurs '1' times\n",
      "'ease-in,left' occurs '1' times\n",
      "'ease-in,margin-left' occurs '1' times\n",
      "'ease-in,margin-top' occurs '1' times\n",
      "'ease-in,top' occurs '1' times\n",
      "'ease-in-out;background:linear-gradient(rgba(255,255,255,0),rgba' occurs '1' times\n",
      "'ease-in-out;background:rgba(0,0,0,0.3);border-color:rgba(0,0,0,0.3)}.des-mat' occurs '1' times\n",
      "'ease-in}.s2fp-h' occurs '1' times\n",
      "'ease-in}.s2ml' occurs '1' times\n",
      "'ease-in}.s2tb' occurs '1' times\n",
      "'ease-in}.s2tb-h' occurs '1' times\n",
      "'ease-in}.s2wfp' occurs '1' times\n",
      "'ease-out' occurs '2' times\n",
      "'ease-out,left' occurs '1' times\n",
      "'ease-out,margin-left' occurs '1' times\n",
      "'ease-out}.s2wfp{}._ypc{margin-top:-100px;opacity:0;pointer-events:none;position:absolute;width:500px;transition:opacity' occurs '1' times\n",
      "'ease-out}.spch-2l.spcht{top:-.6em}.spch-3l.spcht{top:-1.3em}.spch-4l.spcht{top:-1.7em}.s2fp' occurs '1' times\n",
      "'ease-out}.spchc{display:block;height:42px;position:absolute;pointer-events:none}.s2fp' occurs '1' times\n",
      "'ease-out}.spchta{color:#1155cc;cursor:pointer;font-size:18px;font-weight:500;pointer-events:auto;text-decoration:underline}.spch-2l.spcht,.spch-3l.spcht,.spch-4l.spcht{transition:top' occurs '1' times\n",
      "'eee;border-radius:100%;bottom:0;box-shadow' occurs '1' times\n",
      "'e};if(google.timers&&google.timers.load.t){google.timers.load.t.xjsls=new' occurs '1' times\n",
      "'f.action=\"\",f.actionelement=null;e=f;a.v&&(n=s(e.eventtype,e.event,e.targetelement,e.action,e.actionelement,e.timestamp),\"clickonly\"==n.eventtype&&(n.eventtype=\"click\"),a.v(n,!0));if(e.actionelement){\"a\"!=e.actionelement.tagname||\"click\"!=e.eventtype&&\"clickmod\"!=e.eventtype||(b.preventdefault?b.preventdefault():b.returnvalue=!1);if(a.v)a.v(e);else{var' occurs '1' times\n",
      "'f4;height:80px;left:0;margin:0;opacity:0;pointer-events:none;position:fixed;right:0;top:-80px;transition:opacity' occurs '1' times\n",
      "'f4;opacity:1;pointer-events:none;animation:allow-alert' occurs '1' times\n",
      "'f;f=b.which||b.keycode||b.key;d&&3==f&&(f=13);if(13!=f&&32!=f)f=!1;else{var' occurs '1' times\n",
      "'f=a.o[e];x(f,d)?(b.push(f),y(f)):c.push(f)}for(e=0;e<a.s.length;++e)f=a.s[e],x(f,d)?b.push(f):(c.push(f),u(a,f));a.o=c;a.s=b},u=function(a,d){var' occurs '1' times\n",
      "'failed' occurs '1' times\n",
      "'fkbx,body.hide-sf' occurs '1' times\n",
      "'fkbx-hht{float:left}#fkbx-hht.fkbx-hht-s{opacity:1}#recent-tabs{color:#1155cc;cursor:pointer;font-family:arial;font-size:14px}#recent-tabs:hover{text-decoration:underline}#lga{height:231px;margin-top:45px;text-align:-webkit-center}#lga>#dood{display:inline-block;opacity:0;-webkit-transition:opacity' occurs '1' times\n",
      "'fkbx-hspch{left:0;right:auto}#fkbx-hht{-webkit-transition:opacity' occurs '1' times\n",
      "'fkbx-spch,html[dir=rtl' occurs '1' times\n",
      "'fkbx-text,.fkbxfcs' occurs '1' times\n",
      "'fkbx-text{left:auto;right:9px}#fkbx_crt{background:#333;bottom:5px;position:absolute;left:9px;right:auto;top:5px;visibility:hidden;width:1px}html[dir=rtl' occurs '1' times\n",
      "'fkbx-text{visibility:hidden}.des-cla' occurs '1' times\n",
      "'fkbx-text{visibility:hidden}.fkbx-drgfcs' occurs '1' times\n",
      "'fkbx-text{visibility:inherit}.des-ico' occurs '1' times\n",
      "'fkbx-text{visibility:inherit}.des-mat' occurs '1' times\n",
      "'fkbx>input{right:0}#fkbx-text{color:#bbb;bottom:0;font-size:16px;left:9px;margin-top:1px;overflow:hidden;position:absolute;right:9px;text-align:initial;text-overflow:ellipsis;top:0;visibility:hidden;white-space:nowrap}html[dir=rtl' occurs '1' times\n",
      "'fkbx_crt{left:auto;right:9px}@-webkit-keyframes' occurs '1' times\n",
      "'fkbx_crt{visibility:inherit;-webkit-animation:blink' occurs '1' times\n",
      "'fkbx_crt{visibility:inherit}</style><link' occurs '1' times\n",
      "'fkbx{border:1px' occurs '1' times\n",
      "'fkbx{box-shadow:inset' occurs '1' times\n",
      "'fkbx{width:298px}@media' occurs '1' times\n",
      "'fkbx{width:326px}@media' occurs '1' times\n",
      "'fkbx{width:454px}@media' occurs '1' times\n",
      "'fkbx{width:458px}}@media' occurs '1' times\n",
      "'fkbx{width:498px}}@media' occurs '1' times\n",
      "'fkbx{width:562px}}@media' occurs '1' times\n",
      "'fkbx{width:618px}}.des-mat{}.des-mat' occurs '1' times\n",
      "'fkbx{width:670px}}.des-ico{}.des-ico' occurs '1' times\n",
      "'fkbx{width:670px}}.fkbx-drgfcs{}#fkbx_crt{}.fkbxfcs{}.fkbx-drgfcs' occurs '1' times\n",
      "'from{opacity:1}to{opacity:.35}}#fkbx-tchm{}.fkbx-chm{}.fkbx-chme{}#fkbx-chmer{}#fkbx-chmed{}.fkbx-chmt{}#fkbx-chmtr{}.chw-oc{}#chw-o{}#fkbx-tchm{display:none}.fkbx-chm{line-height:22px;text-align:center}.fkbx-chm' occurs '1' times\n",
      "'function(){c[d]&&(c[d].e=google.time())}};google.c.b=function(a){var' occurs '1' times\n",
      "'function(){google.nav.search(google.esrp,!1,d)}}(encodeuricomponent(window.chrome.embeddedsearch.searchbox.value),window.chrome.embeddedsearch.searchbox.requestparams))};}).call(this);(function(){google.c={c:{a:true,d:false,i:false,m:true,n:false}};google.sn='newtab';(function(){var' occurs '1' times\n",
      "'function(b){b||(b=window.event);return' occurs '1' times\n",
      "'function(b){var' occurs '2' times\n",
      "'g&&(t=g.getattribute(\"jsaction\")),t){p' occurs '1' times\n",
      "'g)&&13==f,f=(0==g[q]%f||h)&&!!m)}f&&(c=\"clickkey\")}q=b.srcelement||b.target;f=s(c,b,q,\"\",null);var' occurs '1' times\n",
      "'g.type||g.tagname).touppercase(),(g=32==(b.which||b.keycode||b.key)&&\"checkbox\"!=g)||(g=b(b),q=(g.getattribute(\"role\")||g.tagname).touppercase(),g=g.tagname.touppercase()in' occurs '1' times\n",
      "'g;b.path?(o.w=b.path,o.o=0,o.v=this,o.h=!1,m=o):m=l(q,this);for(;h=m.s();){e=h;var' occurs '1' times\n",
      "'gjb,.s2fp' occurs '1' times\n",
      "'gjb,.s2tb' occurs '1' times\n",
      "'gjb{position:absolute}.s2tb-h' occurs '1' times\n",
      "'gjb{position:relative}.spcht{font-weight:normal;line-height:1.2;opacity:0;pointer-events:none;position:absolute;text-align:left;-webkit-font-smoothing:antialiased;transition:opacity' occurs '1' times\n",
      "'google' occurs '1' times\n",
      "'google-logo{opacity:0.54;left:270px;transition:opacity' occurs '1' times\n",
      "'google.wl(\"ch_mnb\",{m:a})};google.rll=function(a,b,c){var' occurs '1' times\n",
      "'google」</div><div' occurs '1' times\n",
      "'google」即可開始進行語音搜尋。</div><p' occurs '1' times\n",
      "'google」指令\",\"im\":\"按一下' occurs '1' times\n",
      "'google」指令</a></div></div><div' occurs '1' times\n",
      "'google」指令</button></div></div></div></form><div' occurs '1' times\n",
      "'google」，chrome' occurs '1' times\n",
      "'gsd{box-sizing:content-box;overflow:hidden;position:absolute;text-align:center;text-overflow:ellipsis;white-space:nowrap}.mv-locfallback' occurs '1' times\n",
      "'height' occurs '1' times\n",
      "'height:83px;left:55px;pointer-events:none;position:absolute;top:0;width:83px}.mv-locfallback{overflow:hidden}.mv-locfallback' occurs '1' times\n",
      "'href' occurs '5' times\n",
      "'href=\"//ssl.gstatic.com/chrome/components/doodle-notifier-02.html' occurs '1' times\n",
      "'href=\"chrome-search://local-ntp/theme.css' occurs '1' times\n",
      "'href=\"https://support.google.com/chrome/?p=ui_hotword_search' occurs '1' times\n",
      "'href=\\\"https://support.google.com/chrome/?p=ui_voice_search' occurs '3' times\n",
      "'html><html' occurs '1' times\n",
      "'html[dir=rtl' occurs '1' times\n",
      "'h||b.ctrlkey||b.shiftkey||b.altkey||b.metakey||h(m)&&32==f)||((h=m.tagname' occurs '1' times\n",
      "'id=\"chw-o\"><div' occurs '1' times\n",
      "'id=\"csi' occurs '1' times\n",
      "'id=\"f' occurs '1' times\n",
      "'id=\"fkbx\"><div' occurs '1' times\n",
      "'id=\"fkbx-chme\"><div' occurs '1' times\n",
      "'id=\"fkbx-chmed' occurs '1' times\n",
      "'id=\"fkbx-chmer' occurs '1' times\n",
      "'id=\"fkbx-chmt\"><div>啟動字詞偵測功能已關閉。</div><a' occurs '1' times\n",
      "'id=\"fkbx-chmtr' occurs '1' times\n",
      "'id=\"fkbx-hht\">請說「ok' occurs '1' times\n",
      "'id=\"fkbx-hspch' occurs '1' times\n",
      "'id=\"fkbx-spch' occurs '1' times\n",
      "'id=\"fkbx-tchm\"><div' occurs '1' times\n",
      "'id=\"fkbx-text\">在' occurs '1' times\n",
      "'id=\"fkbx_crt\"></div><div' occurs '1' times\n",
      "'id=\"gb\"></div></div><span' occurs '1' times\n",
      "'id=\"hf\"></div><div' occurs '1' times\n",
      "'id=\"hotword__chw-oe' occurs '1' times\n",
      "'id=\"hotword__chw-on' occurs '1' times\n",
      "'id=\"hplogo' occurs '1' times\n",
      "'id=\"lga\"><img' occurs '1' times\n",
      "'id=\"logo-sub\">台灣</div></div><form' occurs '1' times\n",
      "'id=\"mngb\"><div' occurs '1' times\n",
      "'id=\"most-visited\"><div' occurs '1' times\n",
      "'id=\"mv-noti\"><span' occurs '1' times\n",
      "'id=\"mv-noti-error\"><span' occurs '1' times\n",
      "'id=\"mv-noti-lks\"><span' occurs '1' times\n",
      "'id=\"mv-noti-msg\">已移除縮圖。</span>&nbsp;<span' occurs '1' times\n",
      "'id=\"mv-noti-msg\">移除縮圖時發生錯誤；chrome' occurs '1' times\n",
      "'id=\"mv-noti-x' occurs '1' times\n",
      "'id=\"mv-restore' occurs '1' times\n",
      "'id=\"mv-tiles\"></div><div' occurs '1' times\n",
      "'id=\"mv-undo' occurs '1' times\n",
      "'id=\"prm\"></div></div><div' occurs '1' times\n",
      "'id=\"prm-pt\"><br><div' occurs '1' times\n",
      "'id=\"prpd\"></div><div' occurs '1' times\n",
      "'id=\"prt\"></span><div' occurs '1' times\n",
      "'id=\"q' occurs '1' times\n",
      "'id=\"spch\"><div' occurs '1' times\n",
      "'id=\"spchb\"><div' occurs '1' times\n",
      "'id=\"spchc\"><div' occurs '1' times\n",
      "'id=\"spchf' occurs '1' times\n",
      "'id=\"spchi' occurs '1' times\n",
      "'id=\"spchl\"></span><span' occurs '1' times\n",
      "'id=\"spchx\">&times;</div></div><div' occurs '1' times\n",
      "'id=\"theme-attr' occurs '1' times\n",
      "'id=\"theme-attr-msg\">主題建立者：</div></div><textarea' occurs '1' times\n",
      "'id=\"xjsd\"></div><div' occurs '1' times\n",
      "'id=\"xjsi\"><script>(function(){function' occurs '1' times\n",
      "'image;var' occurs '1' times\n",
      "'img{border-radius' occurs '1' times\n",
      "'img{border-radius:3px;width:138px}.des-cla' occurs '1' times\n",
      "'img{height:auto;left:0;pointer-events:none;position:absolute;top:0}.mv-loctitle{-webkit-box-orient:vertical;-webkit-box-pack:center;-webkit-line-clamp:5;border:none;border-radius:3px' occurs '1' times\n",
      "'img{width:148px}.des-mat' occurs '1' times\n",
      "'important;text-align:left;width:400px}._msc{color:#000;font-size:16px;font-weight:bold}._ksc{color:#555}._dkb{border-radius:2px;cursor:pointer;font-size:12px;line-height:27px;margin:0;padding-left:14px;padding-right:14px}#chw-o' occurs '1' times\n",
      "'infinite;-webkit-animation-direction:alternate;-webkit-animation-timing-function:ease-out;transition:opacity' occurs '1' times\n",
      "'infinite}#theme-attr{bottom:0;display:inline-block;font-size:10pt;left:auto;position:fixed;right:8px;white-space:nowrap;z-index:-1}#theme-attr-msg{cursor:default}html[dir=rtl' occurs '1' times\n",
      "'init-hide' occurs '1' times\n",
      "'instanceof' occurs '1' times\n",
      "'j,o=new' occurs '1' times\n",
      "'j=function(){this.v=this.o=null},l=function(a,d){var' occurs '1' times\n",
      "'jsaction=\"chw.optinenablebuttonclicked\">啟用「ok' occurs '1' times\n",
      "'jsaction=\"chw.optinnothanksbuttonclicked\">不用了，謝謝</button><button' occurs '1' times\n",
      "'jsaction=\"mousedown:ntp.fkbxclk\"><div' occurs '1' times\n",
      "'k.s();if(this.o!=this.w.length){var' occurs '1' times\n",
      "'k=new' occurs '1' times\n",
      "'k=this,l=date.now||function(){return+new' occurs '1' times\n",
      "'ka(d);a:{for(var' occurs '1' times\n",
      "'kte{visibility:visible}.mv-mask,.mv-thumb,.mv-locthumb,.mv-locgradient,.mv-locfallback{position:absolute}.mv-mask{border:1px' occurs '1' times\n",
      "'lang=\"zh-tw\"><head><style>.cta{}.default-theme{}#dood{}.fkbx{}#fkbx-hht{}.fkbx-hht-s{}#fkbx-text{}.hide-sf{}.init{}.left-align-attr{}.light-text{}.mv-dot{}.mv-dot-bg{}.mv-focused{}.mv-link-hide{}.mv-locthumb{}.mv-locgradient{}.mv-loctitle{}.mv-locfallback{}#mv-single{}.mv-tiles{}.mv-x{}.mv-x-inner{}.prm-pt{}.prm{}.prt{}.pt{}@-webkit-keyframes' occurs '1' times\n",
      "'left,transparent,rgb' occurs '1' times\n",
      "'left,transparent,rgba' occurs '1' times\n",
      "'left:0;right:auto}.des-mat.light-text' occurs '1' times\n",
      "'lga{visibility:hidden}body.init{-webkit-animation:init-hide' occurs '1' times\n",
      "'linear' occurs '3' times\n",
      "'linear}#lga.init,#fkbx.init{-webkit-animation:init-hide' occurs '1' times\n",
      "'linear}a{color:#1a0dab;text-decoration:none}a:hover,a:active{text-decoration:underline}a:visited{color:#609}#most-visited{-webkit-user-select:none;z-index:1}#mv-tiles{margin:0;overflow:hidden;position:relative;text-align:start}#mv-single{border:none;height:100%;width:100%}.mv-tile{-webkit-transition-duration:200ms;-webkit-transition-property:-webkit-transform,margin,opacity,width;display:inline-block;line-height:normal;position:relative;vertical-align:top}.mv-tile.mv-bl{margin-left:0;margin-right:0;opacity:0;width:0}.mv-page{cursor:pointer;outline:none}._kte{height:100%;visibility:hidden;width:100%}.mv-page' occurs '1' times\n",
      "'m;var' occurs '1' times\n",
      "'m=b(b),q=(m.getattribute(\"role\")||m.type||m.tagname).touppercase(),h;(h=\"keydown\"!=b.type)||(\"getattribute\"in' occurs '1' times\n",
      "'m=function(){this.w=[];this.o=0;this.v=null;this.h=!1};m.prototype.s=function(){if(this.h)return' occurs '1' times\n",
      "'m?(h=(m.getattribute(\"role\")||m.tagname).touppercase(),h=!i(m)&&(\"combobox\"!=h||\"input\"!=h)&&!m.iscontenteditable):h=!1,h=!h);(h' occurs '1' times\n",
      "'method=\"get\"><div' occurs '1' times\n",
      "'min-width:660px){.des-cla' occurs '1' times\n",
      "'min-width:700px){.des-mat' occurs '1' times\n",
      "'min-width:764px){.des-ico' occurs '1' times\n",
      "'min-width:820px){.des-cla' occurs '1' times\n",
      "'min-width:872px){.des-ico' occurs '1' times\n",
      "'min-width:872px){.des-mat' occurs '1' times\n",
      "'most-visited{margin-top:50px}.des-cla' occurs '1' times\n",
      "'most-visited{margin-top:63px}.des-ico' occurs '1' times\n",
      "'most-visited{margin-top:63px}.des-mat' occurs '1' times\n",
      "'ms,background-color' occurs '1' times\n",
      "'ms,border' occurs '2' times\n",
      "'ms;color:#777;font-size:13px;line-height:normal;opacity:0;padding-top:10px;position:absolute;right:29px}html[dir=rtl' occurs '1' times\n",
      "'ms;position:absolute}.mv-page:hover' occurs '1' times\n",
      "'ms;width:100%}#mngb.h{opacity:0}#gb' occurs '1' times\n",
      "'ms}#dood.cta{cursor:pointer}#logo-sub{color:#4285f4;font-size:16px;left:79px;position:relative;top:-20px;white-space:nowrap;width:0}#mngb{position:absolute;top:15px;-webkit-transition:opacity' occurs '1' times\n",
      "'ms}.default-theme.des-mat' occurs '1' times\n",
      "'mv-domain{bottom:24px;margin' occurs '1' times\n",
      "'mv-dot-bg{background:#555}.des-mat' occurs '1' times\n",
      "'mv-dot-bg{background:#fff;height:100%;width:100%}.des-mat.light-text' occurs '1' times\n",
      "'mv-dot{background-color:#333}.des-mat' occurs '1' times\n",
      "'mv-dot{background-color:#f2f2f2;border-radius:8px;display:block;height:16px;left:50%;margin-left:-8px;margin-top:-8px;position:absolute;top:50%;width:16px}.des-mat.light-text' occurs '1' times\n",
      "'mv-fav{bottom:-7px;left:62px}.des-cla' occurs '1' times\n",
      "'mv-fav{left:8px;top:8px}html[dir=rtl' occurs '2' times\n",
      "'mv-fav{left:auto;right:8px}.des-ico' occurs '1' times\n",
      "'mv-fav{left:auto;right:8px}.des-mat' occurs '1' times\n",
      "'mv-focused~.mv-mask,.des-cla' occurs '1' times\n",
      "'mv-focused~.mv-mask{-webkit-transition:box-shadow' occurs '1' times\n",
      "'mv-focused~.mv-mask{-webkit-transition:none;background:rgba(0,0,0,0.2);border:none;border-radius:2px;box-shadow:none}.des-ico.light-text' occurs '1' times\n",
      "'mv-focused~.mv-mask{background:rgba(255,255,255,0.2)}.des-ico' occurs '1' times\n",
      "'mv-focused~.mv-mask{box-shadow' occurs '1' times\n",
      "'mv-focused~.mv-page' occurs '1' times\n",
      "'mv-link-hide{display:none}form{height:39px}#fkbx{background-color:#fff;border:1px' occurs '1' times\n",
      "'mv-locfallback' occurs '7' times\n",
      "'mv-locfallback{border:none;border-radius:0;height:94px;left:4px;top:32px;width:148px}.des-mat' occurs '1' times\n",
      "'mv-locfallback{border:none;height:48px;left:50%;margin-left:-24px;position:absolute;top:18px;width:48px;z-index:10}.des-ico' occurs '1' times\n",
      "'mv-locfallback{border:none;left:1px;height:83px;top:1px;width:138px}.des-cla' occurs '1' times\n",
      "'mv-locgradient,.des-cla' occurs '1' times\n",
      "'mv-locgradient,.des-ico' occurs '1' times\n",
      "'mv-locgradient,.des-mat' occurs '1' times\n",
      "'mv-locthumb' occurs '1' times\n",
      "'mv-locthumb,.des-cla' occurs '1' times\n",
      "'mv-locthumb,.des-ico' occurs '1' times\n",
      "'mv-locthumb,.des-mat' occurs '1' times\n",
      "'mv-mask,.default-theme.des-cla' occurs '2' times\n",
      "'mv-mask,.default-theme.des-mat' occurs '1' times\n",
      "'mv-mask{-webkit-transition:background-color' occurs '1' times\n",
      "'mv-mask{-webkit-transition:box-shadow' occurs '1' times\n",
      "'mv-mask{border-color:#7f7f7f}.des-cla' occurs '1' times\n",
      "'mv-mask{border-color:#c0c0c0}.default-theme.des-cla' occurs '1' times\n",
      "'mv-mask{border-color:transparent;border-radius:0;height:100%;width:100%;z-index:5}.des-ico' occurs '1' times\n",
      "'mv-mask{border-color:transparent;border-radius:2px;height:128px;width:154px}.default-theme.des-mat' occurs '1' times\n",
      "'mv-mask{border-radius:3px;box-shadow:inset' occurs '1' times\n",
      "'mv-mask{border-style:solid}.default-theme.des-cla' occurs '1' times\n",
      "'mv-noti' occurs '1' times\n",
      "'mv-noti-lks' occurs '2' times\n",
      "'mv-noti-x' occurs '2' times\n",
      "'mv-noti-x:active' occurs '2' times\n",
      "'mv-noti-x:focus' occurs '2' times\n",
      "'mv-noti-x:hover' occurs '2' times\n",
      "'mv-noti-x{border-radius:2px;height:32px;width:32px}.des-ico' occurs '1' times\n",
      "'mv-noti{margin-top:30px}.des-ico' occurs '1' times\n",
      "'mv-page' occurs '19' times\n",
      "'mv-page:focus' occurs '2' times\n",
      "'mv-page:hover' occurs '2' times\n",
      "'mv-thumb,.des-cla' occurs '1' times\n",
      "'mv-thumb,.des-ico' occurs '1' times\n",
      "'mv-thumb,.des-mat' occurs '1' times\n",
      "'mv-tile.mv-bl{-webkit-transform:scale(0);-webkit-transform-origin' occurs '2' times\n",
      "'mv-tile.mv-bl{-webkit-transform:scale(0.5)}.des-cla' occurs '1' times\n",
      "'mv-tiles{background:none}.des-ico' occurs '1' times\n",
      "'mv-tiles{background:rgba(0,0,0,0.4)}.default-theme.des-ico' occurs '1' times\n",
      "'mv-tiles{background:rgba(255,255,255,0.2);border-radius:4px;height:224px;line-height:112px;margin-bottom:20px;padding:18px' occurs '1' times\n",
      "'mv-tiles{height:276px;line-height:138px}.des-cla' occurs '1' times\n",
      "'mv-tiles{height:292px;line-height:146px}.des-mat' occurs '1' times\n",
      "'mv-tiles{width:216px}.des-ico' occurs '1' times\n",
      "'mv-tiles{width:320px}.des-cla' occurs '1' times\n",
      "'mv-tiles{width:324px}.des-ico' occurs '1' times\n",
      "'mv-tiles{width:344px}.des-mat' occurs '1' times\n",
      "'mv-tiles{width:432px}.des-ico' occurs '1' times\n",
      "'mv-tiles{width:480px}.des-cla' occurs '1' times\n",
      "'mv-tiles{width:516px}.des-mat' occurs '1' times\n",
      "'mv-tiles{width:640px}.des-cla' occurs '1' times\n",
      "'mv-tiles{width:688px}.des-mat' occurs '1' times\n",
      "'mv-tile{background:-webkit-linear-gradient(#f2f2f2,#e8e8e8);border-radius:4px;box-shadow:inset' occurs '1' times\n",
      "'mv-tile{background:rgb(242,242,242);border-radius:2px;height:130px;margin-left:8px;margin-right:8px;width:156px}.des-mat.light-text' occurs '1' times\n",
      "'mv-tile{background:rgb(51,51,51)}.des-mat' occurs '1' times\n",
      "'mv-tile{border-radius:2px;height:108px;margin' occurs '1' times\n",
      "'mv-title{bottom:-27px;height:18px;left:0;width:140px}.des-cla' occurs '1' times\n",
      "'mv-title{bottom:auto;height:15px;left:32px;top:9px;width:120px}html[dir=rtl' occurs '1' times\n",
      "'mv-title{bottom:auto;height:28px;left:auto;right:auto;top:76px;width:100%;z-index:10}.des-ico' occurs '1' times\n",
      "'mv-title{left:auto;right:32px}@media' occurs '1' times\n",
      "'mv-title{top:8px}}.des-mat' occurs '1' times\n",
      "'mv-x' occurs '3' times\n",
      "'mv-x,#mv-noti-error-lks' occurs '1' times\n",
      "'mv-x,.des-ico#mv-noti-error-lks' occurs '1' times\n",
      "'mv-x,.des-ico.light-text' occurs '1' times\n",
      "'mv-x,.des-mat#mv-noti-error-lks' occurs '1' times\n",
      "'mv-x-inner,.des-ico' occurs '1' times\n",
      "'mv-x-inner,.des-ico.light-text' occurs '1' times\n",
      "'mv-x-inner,.des-mat' occurs '2' times\n",
      "'mv-x-inner,.des-mat.light-text' occurs '2' times\n",
      "'mv-x-inner{-webkit-mask-image:-webkit-image-set(url('data:image/png;base64,ivborw0kggoaaaansuheugaaaaoaaaakcaqaaaanowc2aaaabgdbtueaalgpc/xhbqaaaafzukdcak7ohokaaaagy0hstqaaeiyaaiceaad6aaaagogaahuwaadqyaaaopgaabdwnlprpaaaaajis0deap+hj8y/aaaacxbiwxmaaa7daaaowwhhb6hkaaaalkleqvqi12ngaabczadmnzd8rxkg8xdckaoghfq9uge0iaycwlrjsqirk7a4hgdcdshxzpgfwwaaaabjru5erkjggg' occurs '2' times\n",
      "'mv-x-inner{background-color:rgb(255,255,255)}.des-ico' occurs '1' times\n",
      "'mv-x-inner{background-color:rgb(255,255,255)}.des-mat' occurs '1' times\n",
      "'mv-x-inner{background-color:rgb(66,133,244)}.des-ico.light-text' occurs '1' times\n",
      "'mv-x-inner{background-color:rgb(66,133,244)}.des-mat.light-text' occurs '1' times\n",
      "'mv-x-inner{background-color:rgb(90,90,90)}.des-ico.light-text' occurs '1' times\n",
      "'mv-x-inner{background-color:rgb(90,90,90)}.des-mat.light-text' occurs '1' times\n",
      "'mv-x-inner{background-color:rgba(255,255,255,0.5)}.des-ico' occurs '1' times\n",
      "'mv-x-inner{background-color:rgba(255,255,255,0.5)}.des-mat' occurs '1' times\n",
      "'mv-x-inner{background-color:rgba(255,255,255,0.7)}.des-ico' occurs '1' times\n",
      "'mv-x-inner{background-color:rgba(255,255,255,0.7)}.des-mat' occurs '1' times\n",
      "'mv-x-inner{display:none}.des-ico' occurs '1' times\n",
      "'mv-x:active' occurs '2' times\n",
      "'mv-x:focus{background-image:url('data:image/png;base64,ivborw0kggoaaaansuheugaaabaaaaaqcaqaaac1+jfqaaaaqkleqvr4xqwrmq6dmaxf/1fyilyj2smibug5qctcyja5z8jghlbpgri4tmodravmkfjlwyrlp/g5qfwrlwevnwva4wzfh9jk6kckekbjwxohlghhemwmeluaqqwq4ocbne4ljnhr5iydqqt4djqjhe9u4vbbmnxhhnzrfkdgjhdo0vutaqy2vag4nkvxxdhxbgsiglj3e835vfntdugma/jk0exq0lp//5svi4pto01offyaaaaasuvork5cyii=')}.des-cla' occurs '1' times\n",
      "'mv-x:hover' occurs '2' times\n",
      "'mv-x:hover,.des-cla' occurs '1' times\n",
      "'mv-x:hover{-webkit-transition:none}.mv-domain{bottom:24px;color:#777;margin' occurs '1' times\n",
      "'mv-x{-webkit-margin-start:8px;display:inline-block;opacity:1;position:relative;vertical-align:top}#mv-noti.mv-noti-hide,#mv-noti-error.mv-noti-hide,#mv-noti' occurs '1' times\n",
      "'mv-x{-webkit-transform:translate(0,-8px)}.des-ico' occurs '1' times\n",
      "'mv-x{-webkit-transform:translate(0,-8px)}.des-mat' occurs '1' times\n",
      "'mv-x{-webkit-transition-delay:500ms;opacity:1}.mv-page' occurs '1' times\n",
      "'mv-x{-webkit-transition:opacity' occurs '1' times\n",
      "'mv-x{background-color:transparent;background-image:-webkit-image-set(url('data:image/png;base64,ivborw0kggoaaaansuheugaaabaaaaaqcayaaaaf8/9haaaaaxnsr0iars4c6qaaaixjrefuomvlkz0kwcamrnscdyj6dbedpih/ipdwsinqdu1qpvs7ums8r76igyee3pztgwlggcilbo1cckcupgsqbq1bjpgswwuh9w7gmlkiiyrt4pwbck11bqfe+yfbujsyvkscamgupjtwbdj6eegyjoc8j9badwdbaxy8exrwzkfkewve2tqz/vav7e36qwayprp5aaaaaelftksuqmcc' occurs '1' times\n",
      "'mv-x{background-image:url('data:image/png;base64,ivborw0kggoaaaansuheugaaabaaaaaqcaqaaac1+jfqaaaaieleqvr42r2rsqrdmaxebrdl8sdcx8lqpgg1gbi6lvz/h7qyrrxv0quulwfvwz1tenw5pxtorpwmc52ea9+wdnlh3hfq/xbql86nfyjqegflkiogrovvlifhqurfvho3x1mogaa3dems+ls30cahbn5nnxet5hbj1zwmji2k+af6nenipf/hs54f0szfuvamigaaaabjru5erkjggg==');border-radius:2px;height:16px;width:16px}.des-cla' occurs '1' times\n",
      "'mv-x{background:linear-gradient(to' occurs '4' times\n",
      "'mv-x{border-radius:0;height:16px;width:16px;z-index:15}.des-ico' occurs '1' times\n",
      "'mv-x{border-radius:2px;height:32px;width:32px}.des-mat' occurs '1' times\n",
      "'mv-x{display:none}.mv-x{background-color:transparent;border:none;cursor:pointer;opacity:0;outline:none}.mv-page' occurs '1' times\n",
      "'mv-x{left:10px;right:auto}.des-ico' occurs '1' times\n",
      "'mv-x{left:2px;right:auto}.des-cla' occurs '1' times\n",
      "'mv-x{right:10px}html[dir=rtl' occurs '1' times\n",
      "'mv-x{right:2px;top:2px}html[dir=rtl' occurs '1' times\n",
      "'n2{margin-right:0;padding-top:0;top:0}#prpd{text-align:start}span#prt{display:block}#prm,#prt,#_vrc{-webkit-user-select:auto}#prm-pt{font-size:83%;position:relative;z-index:1}._rzc{font-family:'roboto'}body.hide' occurs '1' times\n",
      "'name=\"csi' occurs '1' times\n",
      "'name=\"q' occurs '1' times\n",
      "'name=\"robots\"><script>(function(){window.google={kei:'luw4wn6kkcy90atl0jkabg',kexpi:'1351903,1352241,1352624,1352992,3300001,3300109,3300130,3313274,3313321,4029815,4031109,4032677,4036527,4038012,4038214,4038394,4039268,4041776,4043492,4045096,4045293,4045839,4046043,4046835,4046837,4046904,4047140,4047454,4047593,4048347,4048980,4049063,4050750,4051887,4056126,4056682,4058016,4061666,4061980,4062666,4062724,4064468,4064796,4065787,4066196,4066727,4068291,4069829,4071757,4072270,4072364,4072777,4073405,4073726,4073913,4073959,4076096,4076607,4076999,4077777,4078438,4078588,4079105,4079894,4080760,4081039,4081164,4082230,4083297,4083476,4084179,4085627,4085682,4086011,4089003,4090281,4090352,4090550,4090806,4090877,4090886,4090893,4091028,4092231,4092475,4092479,4092897,4092934,4093214,4093313,4093318,4093498,4093519,4093791,4093948,4094251,4094544,4094674,4094712,4094831,4095381,4095907,4095967,4095997,4096323,4096463,4096472,4096742,4097082,4097153,4097194,4097203,4097469,4097517,4097922,4097928,4098721,4098727,4098751,4099667,4099818,4100141,4100331,4100380,4100671,4100685,4100728,4100860,4101371,8503585,8505259,8506340,8507381,8507420,8507940,8508112,8508207,8508229,8508395,8508623,8508931,8509037,8509178,8509243,8509373,8509870,8510057,8510787,8510828,10200083,10202230',authuser:0,esrp:{sourceid:'chrome-psyapi2'},esrnh:false,kscs:'c9c918f0_24'};google.khl='zh-tw';})();(function(){google.lc=[];google.li=0;google.getei=function(a){for(var' occurs '1' times\n",
      "'navigator&&!/opera/.test(navigator.useragent)&&/webkit/.test(navigator.useragent),e={a:1,input:1,textarea:1,select:1,button:1},f=function(){this._mouseeventsprevented=!0},g={a:13,button:0,checkbox:32,combobox:13,gridcell:13,link:13,listbox:13,menu:0,menubar:0,menuitem:0,menuitemcheckbox:0,menuitemradio:0,option:0,radio:32,radiogroup:32,reset:0,submit:0,tab:0,tree:13,treeitem:13},h=function(a){return(a.getattribute(\"type\")||a.tagname).touppercase()in' occurs '1' times\n",
      "'navigator&&/iphone|ipad|ipod/.test(navigator.useragent),r=string.prototype.trim?function(a){return' occurs '1' times\n",
      "'navigator&&/macintosh/.test(navigator.useragent),d=\"undefined\"!=typeof' occurs '1' times\n",
      "'navigator){navigator.serviceworker.register('/_/chrome/newtab-serviceworker.js',{scope' occurs '1' times\n",
      "'no-repeat' occurs '3' times\n",
      "'null};google.wl=function(a,b){try{google.ml(error(a),!1,b)}catch(c){}};google.time=function(){return(new' occurs '1' times\n",
      "'null};var' occurs '1' times\n",
      "'o3,.s2er' occurs '1' times\n",
      "'o3,.s2ra' occurs '1' times\n",
      "'o3,.s2tb' occurs '1' times\n",
      "'o3{height:100%;width:572px;transition:opacity' occurs '1' times\n",
      "'o3{opacity:1;transition:opacity' occurs '1' times\n",
      "'onload=\"google.aft&&google.aft(this)\"><div' occurs '1' times\n",
      "'only' occurs '6' times\n",
      "'opacity:0}99%{opacity:0}100%{opacity:1}}body{font:small' occurs '1' times\n",
      "'opacity:1}61.55%,100%{opacity:0}}.fkbxfcs' occurs '1' times\n",
      "'oxb{background-color:#f44}.s2ml' occurs '1' times\n",
      "'oxb{background-color:#fff}.s2ra' occurs '1' times\n",
      "'p=g.__jsaction;if(!p)if(t=null,\"getattribute\"in' occurs '1' times\n",
      "'p=ha,g.__jsaction=p;\"clickkey\"==h?h=\"click\":\"click\"!=h||p.click||(h=\"clickonly\");g={r:h,action:p[h]||\"\",event:null,u:!1};f=s(g.r,g.event||b,q,g.action||\"\",e,f.timestamp);if(g.u||g.action)break}f&&\"touchend\"==f.eventtype&&(f.event._preventmouseevents=f);if(g&&g.action){if(g=\"clickkey\"==c)g=b(b),g' occurs '1' times\n",
      "'p={},y=t.split(ea),z=0,fa=y?y.length:0;z<fa;z++){var' occurs '1' times\n",
      "'px;background-color:rgba(90,90,90,0.7);height:10px;left:50%;margin-left:-5px;margin-top:-5px;position:absolute;top:50%;width:10px}.des-ico.light-text' occurs '1' times\n",
      "'px;background-color:rgba(90,90,90,0.7);height:10px;left:50%;margin-left:-5px;margin-top:-5px;position:absolute;top:50%;width:10px}.des-mat.light-text' occurs '1' times\n",
      "'px;color:white;display:-webkit-box;height:79px;left:0;margin:2px' occurs '1' times\n",
      "'px;height:32px;width:94px;top:8px;opacity:0;float:right;left:255px;pointer-events:none;position:relative;transition:opacity' occurs '1' times\n",
      "'px;margin-left:0;margin-right:0;width:0}.des-ico' occurs '1' times\n",
      "'px;margin-left:0;margin-right:0;width:0}.des-mat' occurs '1' times\n",
      "'px;overflow:hidden;pointer-events:none;position:absolute;text-overflow:ellipsis;text-shadow:1px' occurs '1' times\n",
      "'px;position:absolute;right:0}#fkbx-hspch{display:none}html[dir=rtl' occurs '1' times\n",
      "'px;position:absolute;text-align:center;width:90%}.mv-fav{background-size:16px;height:16px;pointer-events:none;position:absolute;width:16px}#mv-noti,#mv-noti-error{font:bold' occurs '1' times\n",
      "'px;position:absolute;top:2px;width:100%}html[dir=rtl' occurs '1' times\n",
      "'px;position:absolute}._o3{height:100%;opacity:.1;pointer-events:none;width:100%;transition:opacity' occurs '1' times\n",
      "'px;position:relative;top:0}.s2tb' occurs '1' times\n",
      "'px;width:124px}.des-cla' occurs '1' times\n",
      "'px;width:84px}.des-ico' occurs '1' times\n",
      "'px}#mv-noti-lks' occurs '1' times\n",
      "'px}._ww:active,._qyd:focus,._ww:hover{border-color:#2352a2}._ww:active{background-color:#4279d8}</style><link' occurs '1' times\n",
      "'px}.des-ico.light-text' occurs '1' times\n",
      "'q;w(z,window.document.documentelement);p(z,\"click\");p(z,\"focus\");p(z,\"focusin\");p(z,\"blur\");p(z,\"focusout\");p(z,\"error\");p(z,\"load\");p(z,\"change\");p(z,\"dblclick\");p(z,\"input\");p(z,\"keyup\");p(z,\"keydown\");p(z,\"keypress\");p(z,\"mousedown\");p(z,\"mouseenter\");p(z,\"mouseleave\");p(z,\"mouseout\");p(z,\"mouseover\");p(z,\"mouseup\");p(z,\"touchstart\");p(z,\"touchend\");p(z,\"touchcancel\");p(z,\"speech\");(function(a){window.google.jsad=function(d){a.v=d;a.w&&(0<a.w.length&&d(a.w),a.w=null)};window.google.jsaac=function(d){return' occurs '1' times\n",
      "'q=function(){this.s=[];this.o=[];this.s=[];this.h={};this.v=null;this.w=[];p(this,\"_custom\")},da=\"undefined\"!=typeof' occurs '1' times\n",
      "'r=y[z];if(r){var' occurs '1' times\n",
      "'register' occurs '1' times\n",
      "'registered\");},function(x){console.log(\"sw' occurs '1' times\n",
      "'rel=\"import\"><meta' occurs '1' times\n",
      "'rel=\"stylesheet' occurs '1' times\n",
      "'rgb(185,185,185);border-radius:1px;border-top-color:rgb(160,160,160);cursor:text;display:inline-block;font:18px' occurs '1' times\n",
      "'rgba' occurs '5' times\n",
      "'rgba(0,0,0,.09);height:85px;margin-left:10px;margin-right:10px;width:140px}.des-cla' occurs '1' times\n",
      "'rgba(0,0,0,.1);cursor:pointer;display:inline-block;left:0;opacity:0;pointer-events:none;position:absolute;right:0;top:0;transition:background-color' occurs '1' times\n",
      "'rgba(0,0,0,0.09);height:83px;width:138px}.des-cla' occurs '1' times\n",
      "'rgba(0,0,0,0.1)}.des-cla' occurs '1' times\n",
      "'rgba(0,0,0,0.2);margin:0;min-width:100%;overflow:hidden;padding:51px' occurs '1' times\n",
      "'rgba(0,0,0,0.2)}.des-mat' occurs '1' times\n",
      "'rgba(255,255,255,0.9));background-color:rgba(0,0,0,0.35);opacity:0.35}.des-cla' occurs '1' times\n",
      "'right,transparent,rgb' occurs '1' times\n",
      "'right,transparent,rgba' occurs '1' times\n",
      "'right:0;top:0}html[dir=rtl' occurs '1' times\n",
      "'rzc{display:none}.des-cla{}.des-cla' occurs '1' times\n",
      "'s,background-color' occurs '1' times\n",
      "'s,border' occurs '1' times\n",
      "'s,box-shadow' occurs '3' times\n",
      "'s,margin-top' occurs '1' times\n",
      "'s,opacity' occurs '2' times\n",
      "'s2fp-h' occurs '1' times\n",
      "'screen' occurs '6' times\n",
      "'script></div></body></html' occurs '1' times\n",
      "'script></head><body' occurs '1' times\n",
      "'serviceworker' occurs '1' times\n",
      "'solid' occurs '8' times\n",
      "'span,#mv-noti-error' occurs '1' times\n",
      "'span,#mv-noti-error-lks' occurs '1' times\n",
      "'span:focus,#mv-noti-error-lks' occurs '1' times\n",
      "'span:focus{text-decoration:underline}#mv-noti-lks' occurs '1' times\n",
      "'span:hover,#mv-noti-error-lks' occurs '1' times\n",
      "'span:hover,#mv-noti-lks' occurs '1' times\n",
      "'span{-webkit-margin-start:6px;color:#1155cc;cursor:pointer;opacity:1;outline:none;padding' occurs '1' times\n",
      "'span{cursor:default;display:inline-block;height:16px;line-height:16px}#mv-noti-lks' occurs '1' times\n",
      "'spch-5l.spcht{font-size:24px;top:-1.7em;transition:font-size' occurs '1' times\n",
      "'spch-5l.spcht{top:-2.5em}.s2tb' occurs '1' times\n",
      "'spchc,.s2fp-h' occurs '1' times\n",
      "'spchc,.s2tb-h' occurs '1' times\n",
      "'spchc{background:#fff;box-shadow' occurs '1' times\n",
      "'spchc{margin:auto;margin-top:312px;max-width:572px;min-width:534px;padding' occurs '1' times\n",
      "'spcht,.s2fp' occurs '1' times\n",
      "'spcht,.s2tb' occurs '2' times\n",
      "'spcht{font-size:27px;left:7px;top:.2em;width:490px}.s2fp' occurs '1' times\n",
      "'spcht{font-size:32px;left:-44px;top:-.2em;width:460px}.s2tb-h' occurs '1' times\n",
      "'spcht{margin-left:0;opacity:1;transition:opacity' occurs '1' times\n",
      "'spcht{margin-left:32px}.s2fp-h' occurs '1' times\n",
      "'spcht{margin-left:44px}.s2tb-h' occurs '1' times\n",
      "'src=\"/images/branding/googlelogo/2x/googlelogo_color_272x92dp.png' occurs '1' times\n",
      "'srcelement\"!==n&&\"target\"!==n&&(c[n]=b[n]);c.type=\"mouseover\"==b.type?\"mouseenter\":\"mouseleave\";c.target=c.srcelement=e;c.bubbles=!1;f.event=c;f.targetelement=e}}else' occurs '1' times\n",
      "'strict';var' occurs '1' times\n",
      "'style=\"color:#000\"></span></div><div' occurs '1' times\n",
      "'style=\"color:#777\"></span><span' occurs '1' times\n",
      "'style=\"display:none' occurs '1' times\n",
      "'style=\"display:none\"></textarea><script>(function(){google.rll(window,!1,function(){google.tick(\"load\",\"ol\");google.c.u(\"pr\")});google.tick(\"load\",\"prt\");}).call(this);</script><div' occurs '1' times\n",
      "'style=\"display:none\"><div' occurs '1' times\n",
      "'style=\"padding-top:112px' occurs '1' times\n",
      "'s}._zpc{box-shadow' occurs '1' times\n",
      "'s}.button{background-color:#fff;border:1px' occurs '1' times\n",
      "'s}.s2fp-h' occurs '1' times\n",
      "'s}.s2fp.spch{opacity:1;visibility:visible;transition-delay:0s}.s2tb-h.spch{background:rgba(255,255,255,0);opacity:0;visibility:hidden}.s2tb.spch{background:rgba(255,255,255,0);opacity:1;visibility:visible;transition-delay:0s}.close-button{color:#777;cursor:pointer;font-size:26px;right:0;height:11px;line-height:15px;margin:15px;opacity:.6;padding:0;position:absolute;top:0;width:15px}.close-button:hover{opacity:.8}.close-button:active{opacity:1}.google-logo{background:url(data:image/png;base64,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' occurs '1' times\n",
      "'s}.s2tb-h' occurs '2' times\n",
      "'s}.s2wfp' occurs '1' times\n",
      "'s}@-webkit-keyframes' occurs '1' times\n",
      "'t;g=e;h=c;var' occurs '1' times\n",
      "'tabindex' occurs '1' times\n",
      "'tabindex=\"-1\"></div></span></div><div' occurs '1' times\n",
      "'tabindex=\"0\"></div><div' occurs '2' times\n",
      "'tabindex=\"1\">全部還原</span>&nbsp;<div' occurs '1' times\n",
      "'tabindex=\"1\">復原</span>&nbsp;<span' occurs '1' times\n",
      "'tabindex=\"1\">說明</a></div></div><div' occurs '1' times\n",
      "'tabindex=\"1\">重新啟動指令接聽功能</a><a' occurs '1' times\n",
      "'tabindex=\"1\">開始接聽「ok' occurs '1' times\n",
      "'target=\"_blank\">瞭解詳情</a><button' occurs '1' times\n",
      "'target=\\\"_blank\\\"\\u003e瞭解詳情\\u003c/a\\u003e\",\"hen\":true,\"hl\":\"zh-hant-tw\",\"htt\":\"準備接聽「ok' occurs '1' times\n",
      "'target=\\\"_blank\\\"\\u003e瞭解詳情\\u003c/a\\u003e\",\"pe\":\"語音搜尋功能已關閉。\\u003ca' occurs '1' times\n",
      "'target=\\\"_blank\\\"\\u003e詳細資訊\\u003c/a\\u003e\",\"rm\":\"請開始說話\"},\"d\":{},\"csi\":{\"acsi\":true,\"scvnsb\":true},\"w5tolw\":{},\"yfcs/g\":{}};google.y.first.push(function(){google.loadall(['spch'].concat(google.xjsrm||[]));if(google.med){google.med('init');google.inithistory();google.med('history');}});if(google.j&&google.j.en&&google.j.xi){window.settimeout(google.j.xi' occurs '1' times\n",
      "'theme-attr,#theme-attr.left-align-attr{left:8px;right:auto;text-align:right}#fkbx-spch,#fkbx-hspch{cursor:pointer;display:none;height:21px;padding:15px' occurs '1' times\n",
      "'then(function(sw){console.log(\"sw' occurs '1' times\n",
      "'this.h[a]};var' occurs '1' times\n",
      "'title=\"google' occurs '1' times\n",
      "'top:0;white-space:normal;width:79px}.mv-x-hide' occurs '1' times\n",
      "'transparent;left:0;pointer-events:none;position:absolute;top:0}.mv-title{border:none;position:absolute}.mv-locthumb,.mv-locgradient,.mv-locfallback{border-radius:3px;pointer-events:none}.mv-locgradient{background:-webkit-linear-gradient(left,rgba' occurs '1' times\n",
      "'type=\"text/css\"><style>.s2er{}.s2fp{}.s2fp-h{}.s2ml{}.s2ra{}.s2tb{}.s2tb-h{}.spch{}.spchc{}.spch{background:#fff;height:100%;left:0;opacity:0;overflow:hidden;position:fixed;text-align:left;top:0;visibility:hidden;width:100%;z-index:10000;transition:visibility' occurs '1' times\n",
      "'type=\"url' occurs '1' times\n",
      "'u=function(a,d){if(null===d)return!1;if(\"contains\"in' occurs '1' times\n",
      "'v;if((n=k.document)&&!n.createevent&&n.createeventobject)try{v=n.createeventobject(b)}catch(la){v=b}else' occurs '1' times\n",
      "'v=b;e.event=v;a.w.push(e)}if(\"touchend\"==e.event.type&&e.event._mouseeventsprevented){b=e.event;for(var' occurs '1' times\n",
      "'w(a,d)};window.google.jsarc=function(d){y(d);for(var' occurs '1' times\n",
      "'w=function(a,d){var' occurs '1' times\n",
      "'w={};var' occurs '1' times\n",
      "'w[t];if(!p){for(var' occurs '1' times\n",
      "'webkit-min-device-pixel-ratio:2){.des-mat' occurs '1' times\n",
      "'width' occurs '1' times\n",
      "'width:17px;background:url(data:image/png;base64,ivborw0kggoaaaansuheugaaadaaaaawcayaaabxavmhaaacreleqvr42u2xz2stqrsax8vsb1k8inqkoojh2ux6ksn+ipqqxzmiehjb0do/imhmqwsvhr2ksegk0tsliowiynukij20f2/n7iauznyt0kyzzhmks0hdjitdlcwhdwkzsd63781lbiqssw9jzdkhzfkm1rz9mjzp/w9ydeu3vxv4hsqz40ftng36q5rls//ej4tmbss2t15mvp3exopmemqnbbtmmeyoljcfcqn7pqyalqnfig7gyq0tyniaxa1mrjpy3wimbuqbkaxsfv0tbsivmokvkrdtgkwn/t6fdqraxfnowwpepixquqbt6alu/uvgu8gw4gd3f6f9trdynjtdrk7ybtiquumhwiyoujuherdas0r4cvgfecgby+cfar7kt+g1pomckfdnw6wgghc3fbtvb4caoyaubgxig+g1xh5mragah6cggbd11fk/h7lopris0h6url6kao5o7kov4qmpiwj4jqqv4fiwctxjvd2+trmfk6kz/ygi2hritk0rdvggrclj6dwmwyc/agucbmycic2v0czvjmbrz3j3xujn6cfeyreuj2wqkgd75inpx1mffsefrrciycvdhc4pawqakxajpjmr0c9yfg54i7asclrmh9/xnr0nhcinzzstk2alwacgmad9ppiazvfkvdd5rdnhjehlx5rtyrpqhpz5o66emmc9wdlptva8wf7aq2buhh1525qeo5jtr1weoxpicko9cjipyud6xjmhyiz5ytwsl3mlnuoaf+2zdaldxmjrsgz/myveugo+gsh+fksba4yd5ul87dz5xpfl/ayiejzyjkau8wqshu2cr13hpbgx4gjod97n465gzlyvvc9mskloki2itnbwnt+gbx54h+iaxatxjze3ycsafqsafjacukaikxd+ahj5/wx2o5osaaaaaelftksuqmcc' occurs '1' times\n",
      "'wpb,.s2tb' occurs '1' times\n",
      "'wpb{left:17px;top:7px;transform:scale(.53)}._aub{background-color:#999;border-radius:30px;height:46px;left:25px;pointer-events:none;position:absolute;width:24px}._fjd{bottom:0;height:53px;left:11px;overflow:hidden;pointer-events:none;position:absolute;width:52px}._oxb{background-color:#999;bottom:14px;height:14px;left:22px;pointer-events:none;position:absolute;width:9px;z-index:1}._dwb{border:7px' occurs '1' times\n",
      "'x);-webkit-mask-repeat:no-repeat;-webkit-mask-size:10px' occurs '2' times\n",
      "'x);top:10px}.des-ico' occurs '1' times\n",
      "'x,url('data:image/png;base64,ivborw0kggoaaaansuheugaaabqaaaaucaqaaaangnwgaaaabgdbtueaalgpc/xhbqaaaafzukdcak7ohokaaaagy0hstqaaeiyaaiceaad6aaaagogaahuwaadqyaaaopgaabdwnlprpaaaaajis0deap+hj8y/aaaacxbiwxmaaa7daaaowwhhb6hkaaaav0leqvqoz42tww4aeawe9+i9or8edv3jszqtvb8kkrryz/jquzpq4unsqynw6kxe6jn6b8s8gdixb+glpnspllu/bcrc1lay2b7ycdhcubr4zfdiwq/qafvmh51s6zweaaaaaelftksuqmcc' occurs '2' times\n",
      "'x,url('data:image/png;base64,ivborw0kggoaaaansuheugaaacaaaaagcayaaabzenr0aaaaaxnsr0iars4c6qaaaq9jrefuwmpt1tskrfaubmcp46gcjywhb5iletvcihfoak1l2ulj0gca2kqp+fn/w9o7dmuy8mutoqakoaakobikwxckogbvvxezhmdbhmcqbmf1gczlai+u60dttm0cz/nqvdwutzlkogd+87ztpyieqyc6rqfmoi7guu61m7bg6lpofhnfkzqpwwce590zho8qkirb0zsk3hgce1fbgjgx930ptm0/swwvrsgigwjz1np7wpipzaddmj4bbl0cvdzn814alr/1emqy/bximadlsaaprcx3xw8qznlylmihxgewy/hmtbwclgvjyrfok7de5hl+hsckoumgun3uztgtpin4vk+/byiaaijgpwavfkeujtqjb0kaaaaasuvork5cyii' occurs '1' times\n",
      "'x.message' occurs '1' times\n",
      "'x=function(a,d){return' occurs '1' times\n",
      "'ypc{margin-top:-300px;opacity:1;transition:opacity' occurs '1' times\n",
      "'z1e:active' occurs '2' times\n",
      "'z1e:focus' occurs '2' times\n",
      "'z=new' occurs '1' times\n",
      "'zpc{box-shadow' occurs '1' times\n",
      "'上搜尋或輸入網址</div><input' occurs '1' times\n",
      "'允許]\\u003cb\\u003e\\u003c/b\\u003e' occurs '1' times\n",
      "'即可開始進行語音搜尋\",\"iw\":\"等待中...\",\"lm\":\"收聽中...\",\"lu\":\"目前尚未提供%1$s語音搜尋服務\",\"ne\":\"沒有網際網路連線\",\"nt\":\"不太瞭解您的意思。\\u003cspan\\u003e再試一次\\u003c/span\\u003e\",\"nv\":\"請檢查您的麥克風和音量。\\u003ca' occurs '1' times\n",
      "'就會搜尋您隨後所說的內容。</p><div><a' occurs '1' times\n",
      "'必須連線至網路。</span></div></div><div' occurs '1' times\n"
     ]
    }
   ],
   "source": [
    "import string\n",
    "import sys\n",
    "words={}\n",
    "strip = string.whitespace + string.punctuation + string.digits +'\\\"'\n",
    "\n",
    "#for filename in sys.argv[1:]:\n",
    "list1 = ['./openfile.txt']\n",
    "for filename in list1:\n",
    "    for line in open(filename):\n",
    "        for word in line.lower().split():# change each line to lower and split with whitespace by default\n",
    "            word = word.strip(strip)# strip method take out all the character in strip \n",
    "            if len(word) > 2:\n",
    "                words[word] = words.get(word,0) + 1\n",
    "                # this add the word in words dictionary and add 1 in words[word] value\n",
    "for word in sorted(words):\n",
    "    print(\"'{0}' occurs '{1}' times\".format(word,words[word]))"
   ]
  },
  {
   "cell_type": "code",
   "execution_count": 93,
   "metadata": {
    "collapsed": false,
    "deletable": true,
    "editable": true
   },
   "outputs": [
    {
     "data": {
      "text/plain": [
       "' \\t\\n\\r\\x0b\\x0c'"
      ]
     },
     "execution_count": 93,
     "metadata": {},
     "output_type": "execute_result"
    }
   ],
   "source": [
    "string.whitespace"
   ]
  },
  {
   "cell_type": "code",
   "execution_count": 94,
   "metadata": {
    "collapsed": false,
    "deletable": true,
    "editable": true
   },
   "outputs": [],
   "source": [
    "sites={}\n",
    "#for filename in sys.argv[1:]:\n",
    "filename = './openfile.txt'\n",
    "for line in open(filename):\n",
    "    i = 0 # index\n",
    "    while True:\n",
    "        site = None\n",
    "        i = line.find('https://',i)# return the index whose value is larger than i\n",
    "        if i > -1: # if not the end of line\n",
    "            i += len('https://')# i point to the character right after http://\n",
    "            for j in range(i,len(line)):# from i to end of line\n",
    "                if not (line[j].isalnum() or line[j] in '.-'):\n",
    "                    site = line[i:j].lower()\n",
    "                    break\n",
    "        \n",
    "            if site and '.' in site: # if site is not None and site has '.'\n",
    "                sites.setdefault(site,set()).add(filename)\n",
    "                # find whether site is in sites, if yes return value and add(filename)\n",
    "                #                                if not add the site in sites with value set()\n",
    "            i = j\n",
    "        else:# when i == -1\n",
    "            break\n",
    "                "
   ]
  },
  {
   "cell_type": "code",
   "execution_count": 95,
   "metadata": {
    "collapsed": false
   },
   "outputs": [
    {
     "name": "stdout",
     "output_type": "stream",
     "text": [
      "support.google.com is referred to in:\n",
      "    ./openfile.txt\n"
     ]
    }
   ],
   "source": [
    "for site in sorted(sites):\n",
    "    print(\"{0} is referred to in:\".format(site))\n",
    "    for filename in sorted(sites[site], key = str.lower):\n",
    "        print(\"    {0}\".format(filename))"
   ]
  },
  {
   "cell_type": "code",
   "execution_count": 96,
   "metadata": {
    "collapsed": false
   },
   "outputs": [
    {
     "name": "stdout",
     "output_type": "stream",
     "text": [
      "#0080000 #00FF00 #808000\n"
     ]
    }
   ],
   "source": [
    "greens = dict(green='#0080000',olive='#808000',lime='#00FF00')\n",
    "print('{green} {lime} {olive}'.format(**greens))"
   ]
  },
  {
   "cell_type": "markdown",
   "metadata": {},
   "source": [
    "\n",
    "# Dictionary Comprehensions\n"
   ]
  },
  {
   "cell_type": "code",
   "execution_count": 97,
   "metadata": {
    "collapsed": true
   },
   "outputs": [],
   "source": [
    "import os\n",
    "file_sizes = {name: os.path.getsize(name) for name in os.listdir(\".\")}"
   ]
  },
  {
   "cell_type": "code",
   "execution_count": 98,
   "metadata": {
    "collapsed": false
   },
   "outputs": [
    {
     "name": "stdout",
     "output_type": "stream",
     "text": [
      "{'SetTypes.ipynb': 7309, 'openfile.txt': 46803, '.ipynb_checkpoints': 4096, 'Mapping Types.ipynb': 80570, 'range.py': 91}\n"
     ]
    }
   ],
   "source": [
    "print(file_sizes)"
   ]
  },
  {
   "cell_type": "code",
   "execution_count": 99,
   "metadata": {
    "collapsed": true
   },
   "outputs": [],
   "source": [
    "# Created Inverted Dictionary\n",
    "inverted_d = {v:k for k,v in file_sizes.items()}"
   ]
  },
  {
   "cell_type": "code",
   "execution_count": 100,
   "metadata": {
    "collapsed": false
   },
   "outputs": [
    {
     "name": "stdout",
     "output_type": "stream",
     "text": [
      "{4096: '.ipynb_checkpoints', 91: 'range.py', 80570: 'Mapping Types.ipynb', 46803: 'openfile.txt', 7309: 'SetTypes.ipynb'}\n"
     ]
    }
   ],
   "source": [
    "print(inverted_d)"
   ]
  },
  {
   "cell_type": "markdown",
   "metadata": {},
   "source": [
    "# Default Dictionary"
   ]
  },
  {
   "cell_type": "code",
   "execution_count": 101,
   "metadata": {
    "collapsed": false
   },
   "outputs": [],
   "source": [
    "import collections\n",
    "\n",
    "\n",
    "words = collections.defaultdict(int)# crate a defaultdict and factory function int(),\n",
    "#when we encounter a key not in the dict it would automatically create one with default value = int()"
   ]
  },
  {
   "cell_type": "code",
   "execution_count": 102,
   "metadata": {
    "collapsed": true
   },
   "outputs": [],
   "source": [
    "words['Hello'] +=1"
   ]
  },
  {
   "cell_type": "code",
   "execution_count": 103,
   "metadata": {
    "collapsed": false
   },
   "outputs": [
    {
     "data": {
      "text/plain": [
       "defaultdict(int, {'Hello': 1})"
      ]
     },
     "execution_count": 103,
     "metadata": {},
     "output_type": "execute_result"
    }
   ],
   "source": [
    "words"
   ]
  },
  {
   "cell_type": "code",
   "execution_count": 104,
   "metadata": {
    "collapsed": false
   },
   "outputs": [],
   "source": [
    "words['GG'] = 'Chinese Taipei'"
   ]
  },
  {
   "cell_type": "code",
   "execution_count": 105,
   "metadata": {
    "collapsed": false
   },
   "outputs": [
    {
     "data": {
      "text/plain": [
       "defaultdict(int, {'GG': 'Chinese Taipei', 'Hello': 1})"
      ]
     },
     "execution_count": 105,
     "metadata": {},
     "output_type": "execute_result"
    }
   ],
   "source": [
    "words"
   ]
  },
  {
   "cell_type": "code",
   "execution_count": 106,
   "metadata": {
    "collapsed": false
   },
   "outputs": [
    {
     "data": {
      "text/plain": [
       "0"
      ]
     },
     "execution_count": 106,
     "metadata": {},
     "output_type": "execute_result"
    }
   ],
   "source": [
    "words['test']"
   ]
  },
  {
   "cell_type": "code",
   "execution_count": 107,
   "metadata": {
    "collapsed": false
   },
   "outputs": [
    {
     "data": {
      "text/plain": [
       "defaultdict(int, {'GG': 'Chinese Taipei', 'Hello': 1, 'test': 0})"
      ]
     },
     "execution_count": 107,
     "metadata": {},
     "output_type": "execute_result"
    }
   ],
   "source": [
    "words"
   ]
  },
  {
   "cell_type": "markdown",
   "metadata": {},
   "source": [
    "# Ordered Dictionaries"
   ]
  },
  {
   "cell_type": "code",
   "execution_count": 108,
   "metadata": {
    "collapsed": true
   },
   "outputs": [],
   "source": [
    "d= collections.OrderedDict([('z',4),('e',19),('k',7)])"
   ]
  },
  {
   "cell_type": "code",
   "execution_count": 109,
   "metadata": {
    "collapsed": false
   },
   "outputs": [
    {
     "data": {
      "text/plain": [
       "OrderedDict([('z', 4), ('e', 19), ('k', 7)])"
      ]
     },
     "execution_count": 109,
     "metadata": {},
     "output_type": "execute_result"
    }
   ],
   "source": [
    "d"
   ]
  },
  {
   "cell_type": "code",
   "execution_count": 110,
   "metadata": {
    "collapsed": true
   },
   "outputs": [],
   "source": [
    "tasks = collections.OrderedDict()\n",
    "tasks[8031] = 'Backup'\n",
    "tasks[4027] = 'Scan Mail'\n",
    "tasks[5733] = 'Build System'"
   ]
  },
  {
   "cell_type": "code",
   "execution_count": 111,
   "metadata": {
    "collapsed": false
   },
   "outputs": [
    {
     "data": {
      "text/plain": [
       "['z', 'e', 'k']"
      ]
     },
     "execution_count": 111,
     "metadata": {},
     "output_type": "execute_result"
    }
   ],
   "source": [
    "list(d.keys())"
   ]
  },
  {
   "cell_type": "code",
   "execution_count": 112,
   "metadata": {
    "collapsed": false
   },
   "outputs": [
    {
     "data": {
      "text/plain": [
       "[4, 19, 7]"
      ]
     },
     "execution_count": 112,
     "metadata": {},
     "output_type": "execute_result"
    }
   ],
   "source": [
    "list(d.values())"
   ]
  },
  {
   "cell_type": "code",
   "execution_count": 113,
   "metadata": {
    "collapsed": true
   },
   "outputs": [],
   "source": [
    "tasks[8031] = 'Wakeup!'# change the value in the OrderedDict"
   ]
  },
  {
   "cell_type": "code",
   "execution_count": 114,
   "metadata": {
    "collapsed": false
   },
   "outputs": [
    {
     "data": {
      "text/plain": [
       "OrderedDict([(8031, 'Wakeup!'), (4027, 'Scan Mail'), (5733, 'Build System')])"
      ]
     },
     "execution_count": 114,
     "metadata": {},
     "output_type": "execute_result"
    }
   ],
   "source": [
    "tasks"
   ]
  },
  {
   "cell_type": "code",
   "execution_count": 115,
   "metadata": {
    "collapsed": true
   },
   "outputs": [],
   "source": [
    "# return the last key\n",
    "last = tasks.popitem()"
   ]
  },
  {
   "cell_type": "code",
   "execution_count": 116,
   "metadata": {
    "collapsed": false
   },
   "outputs": [
    {
     "data": {
      "text/plain": [
       "((5733, 'Build System'), OrderedDict([(8031, 'Wakeup!'), (4027, 'Scan Mail')]))"
      ]
     },
     "execution_count": 116,
     "metadata": {},
     "output_type": "execute_result"
    }
   ],
   "source": [
    "last, tasks"
   ]
  },
  {
   "cell_type": "code",
   "execution_count": 117,
   "metadata": {
    "collapsed": true
   },
   "outputs": [],
   "source": [
    "# pop the first item\n",
    "first = tasks.popitem(last=False)"
   ]
  },
  {
   "cell_type": "code",
   "execution_count": 118,
   "metadata": {
    "collapsed": false
   },
   "outputs": [
    {
     "data": {
      "text/plain": [
       "(8031, 'Wakeup!')"
      ]
     },
     "execution_count": 118,
     "metadata": {},
     "output_type": "execute_result"
    }
   ],
   "source": [
    "first"
   ]
  },
  {
   "cell_type": "code",
   "execution_count": 119,
   "metadata": {
    "collapsed": false
   },
   "outputs": [
    {
     "name": "stdout",
     "output_type": "stream",
     "text": [
      "OrderedDict([('z', 4), ('e', 19), ('k', 7)])\n",
      "OrderedDict([('e', 19), ('k', 7), ('z', 4)])\n"
     ]
    }
   ],
   "source": [
    "print(d)\n",
    "d = collections.OrderedDict(sorted(d.items()))\n",
    "print(d)"
   ]
  },
  {
   "cell_type": "code",
   "execution_count": 120,
   "metadata": {
    "collapsed": false
   },
   "outputs": [
    {
     "name": "stdout",
     "output_type": "stream",
     "text": [
      "64\n"
     ]
    }
   ],
   "source": [
    "product = 1\n",
    "i = iter([1,2,4,8])\n",
    "while True:\n",
    "    try:\n",
    "        product *= next(i)\n",
    "    except StopIteration:\n",
    "        break\n",
    "print(product)"
   ]
  },
  {
   "cell_type": "code",
   "execution_count": null,
   "metadata": {
    "collapsed": true
   },
   "outputs": [],
   "source": []
  }
 ],
 "metadata": {
  "kernelspec": {
   "display_name": "IPython (Python 3)",
   "language": "python",
   "name": "python3"
  },
  "language_info": {
   "codemirror_mode": {
    "name": "ipython",
    "version": 3
   },
   "file_extension": ".py",
   "mimetype": "text/x-python",
   "name": "python",
   "nbconvert_exporter": "python",
   "pygments_lexer": "ipython3",
   "version": "3.5.2"
  }
 },
 "nbformat": 4,
 "nbformat_minor": 2
}
